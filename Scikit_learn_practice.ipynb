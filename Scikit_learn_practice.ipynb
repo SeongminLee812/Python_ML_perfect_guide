{
 "cells": [
  {
   "cell_type": "code",
   "execution_count": 2,
   "metadata": {
    "collapsed": true,
    "pycharm": {
     "name": "#%%\n"
    }
   },
   "outputs": [
    {
     "name": "stdout",
     "output_type": "stream",
     "text": [
      "1.1.2\n"
     ]
    }
   ],
   "source": [
    "import sklearn\n",
    "print(sklearn.__version__)"
   ]
  },
  {
   "cell_type": "code",
   "execution_count": 3,
   "outputs": [],
   "source": [
    "from sklearn.datasets import load_iris\n",
    "from sklearn.tree import DecisionTreeClassifier\n",
    "from sklearn.model_selection import train_test_split"
   ],
   "metadata": {
    "collapsed": false,
    "pycharm": {
     "name": "#%%\n"
    }
   }
  },
  {
   "cell_type": "code",
   "execution_count": 4,
   "outputs": [
    {
     "name": "stdout",
     "output_type": "stream",
     "text": [
      "iris target값 : [0 0 0 0 0 0 0 0 0 0 0 0 0 0 0 0 0 0 0 0 0 0 0 0 0 0 0 0 0 0 0 0 0 0 0 0 0\n",
      " 0 0 0 0 0 0 0 0 0 0 0 0 0 1 1 1 1 1 1 1 1 1 1 1 1 1 1 1 1 1 1 1 1 1 1 1 1\n",
      " 1 1 1 1 1 1 1 1 1 1 1 1 1 1 1 1 1 1 1 1 1 1 1 1 1 1 2 2 2 2 2 2 2 2 2 2 2\n",
      " 2 2 2 2 2 2 2 2 2 2 2 2 2 2 2 2 2 2 2 2 2 2 2 2 2 2 2 2 2 2 2 2 2 2 2 2 2\n",
      " 2 2]\n",
      "iris target명 : ['setosa' 'versicolor' 'virginica']\n"
     ]
    },
    {
     "data": {
      "text/plain": "   sepal length (cm)  sepal width (cm)  petal length (cm)  petal width (cm)  \\\n0                5.1               3.5                1.4               0.2   \n1                4.9               3.0                1.4               0.2   \n2                4.7               3.2                1.3               0.2   \n\n   label  \n0      0  \n1      0  \n2      0  ",
      "text/html": "<div>\n<style scoped>\n    .dataframe tbody tr th:only-of-type {\n        vertical-align: middle;\n    }\n\n    .dataframe tbody tr th {\n        vertical-align: top;\n    }\n\n    .dataframe thead th {\n        text-align: right;\n    }\n</style>\n<table border=\"1\" class=\"dataframe\">\n  <thead>\n    <tr style=\"text-align: right;\">\n      <th></th>\n      <th>sepal length (cm)</th>\n      <th>sepal width (cm)</th>\n      <th>petal length (cm)</th>\n      <th>petal width (cm)</th>\n      <th>label</th>\n    </tr>\n  </thead>\n  <tbody>\n    <tr>\n      <th>0</th>\n      <td>5.1</td>\n      <td>3.5</td>\n      <td>1.4</td>\n      <td>0.2</td>\n      <td>0</td>\n    </tr>\n    <tr>\n      <th>1</th>\n      <td>4.9</td>\n      <td>3.0</td>\n      <td>1.4</td>\n      <td>0.2</td>\n      <td>0</td>\n    </tr>\n    <tr>\n      <th>2</th>\n      <td>4.7</td>\n      <td>3.2</td>\n      <td>1.3</td>\n      <td>0.2</td>\n      <td>0</td>\n    </tr>\n  </tbody>\n</table>\n</div>"
     },
     "execution_count": 4,
     "metadata": {},
     "output_type": "execute_result"
    }
   ],
   "source": [
    "import pandas as pd\n",
    "\n",
    "iris = load_iris()\n",
    "\n",
    "iris_data = iris.data\n",
    "\n",
    "iris_label = iris.target\n",
    "print('iris target값 :', iris_label)\n",
    "print('iris target명 :', iris.target_names)\n",
    "\n",
    "iris_df = pd.DataFrame(data = iris_data, columns = iris.feature_names)\n",
    "iris_df['label']=iris.target\n",
    "iris_df.head(3)"
   ],
   "metadata": {
    "collapsed": false,
    "pycharm": {
     "name": "#%%\n"
    }
   }
  },
  {
   "cell_type": "code",
   "execution_count": 5,
   "outputs": [],
   "source": [
    "X_train, X_test, y_train, y_test = train_test_split(iris_data, iris_label, test_size=0.2, random_state=11)"
   ],
   "metadata": {
    "collapsed": false,
    "pycharm": {
     "name": "#%%\n"
    }
   }
  },
  {
   "cell_type": "code",
   "execution_count": 6,
   "outputs": [],
   "source": [
    "dt_clf = DecisionTreeClassifier(random_state=11)"
   ],
   "metadata": {
    "collapsed": false,
    "pycharm": {
     "name": "#%%\n"
    }
   }
  },
  {
   "cell_type": "code",
   "execution_count": 7,
   "outputs": [
    {
     "data": {
      "text/plain": "DecisionTreeClassifier(random_state=11)",
      "text/html": "<style>#sk-container-id-1 {color: black;background-color: white;}#sk-container-id-1 pre{padding: 0;}#sk-container-id-1 div.sk-toggleable {background-color: white;}#sk-container-id-1 label.sk-toggleable__label {cursor: pointer;display: block;width: 100%;margin-bottom: 0;padding: 0.3em;box-sizing: border-box;text-align: center;}#sk-container-id-1 label.sk-toggleable__label-arrow:before {content: \"▸\";float: left;margin-right: 0.25em;color: #696969;}#sk-container-id-1 label.sk-toggleable__label-arrow:hover:before {color: black;}#sk-container-id-1 div.sk-estimator:hover label.sk-toggleable__label-arrow:before {color: black;}#sk-container-id-1 div.sk-toggleable__content {max-height: 0;max-width: 0;overflow: hidden;text-align: left;background-color: #f0f8ff;}#sk-container-id-1 div.sk-toggleable__content pre {margin: 0.2em;color: black;border-radius: 0.25em;background-color: #f0f8ff;}#sk-container-id-1 input.sk-toggleable__control:checked~div.sk-toggleable__content {max-height: 200px;max-width: 100%;overflow: auto;}#sk-container-id-1 input.sk-toggleable__control:checked~label.sk-toggleable__label-arrow:before {content: \"▾\";}#sk-container-id-1 div.sk-estimator input.sk-toggleable__control:checked~label.sk-toggleable__label {background-color: #d4ebff;}#sk-container-id-1 div.sk-label input.sk-toggleable__control:checked~label.sk-toggleable__label {background-color: #d4ebff;}#sk-container-id-1 input.sk-hidden--visually {border: 0;clip: rect(1px 1px 1px 1px);clip: rect(1px, 1px, 1px, 1px);height: 1px;margin: -1px;overflow: hidden;padding: 0;position: absolute;width: 1px;}#sk-container-id-1 div.sk-estimator {font-family: monospace;background-color: #f0f8ff;border: 1px dotted black;border-radius: 0.25em;box-sizing: border-box;margin-bottom: 0.5em;}#sk-container-id-1 div.sk-estimator:hover {background-color: #d4ebff;}#sk-container-id-1 div.sk-parallel-item::after {content: \"\";width: 100%;border-bottom: 1px solid gray;flex-grow: 1;}#sk-container-id-1 div.sk-label:hover label.sk-toggleable__label {background-color: #d4ebff;}#sk-container-id-1 div.sk-serial::before {content: \"\";position: absolute;border-left: 1px solid gray;box-sizing: border-box;top: 0;bottom: 0;left: 50%;z-index: 0;}#sk-container-id-1 div.sk-serial {display: flex;flex-direction: column;align-items: center;background-color: white;padding-right: 0.2em;padding-left: 0.2em;position: relative;}#sk-container-id-1 div.sk-item {position: relative;z-index: 1;}#sk-container-id-1 div.sk-parallel {display: flex;align-items: stretch;justify-content: center;background-color: white;position: relative;}#sk-container-id-1 div.sk-item::before, #sk-container-id-1 div.sk-parallel-item::before {content: \"\";position: absolute;border-left: 1px solid gray;box-sizing: border-box;top: 0;bottom: 0;left: 50%;z-index: -1;}#sk-container-id-1 div.sk-parallel-item {display: flex;flex-direction: column;z-index: 1;position: relative;background-color: white;}#sk-container-id-1 div.sk-parallel-item:first-child::after {align-self: flex-end;width: 50%;}#sk-container-id-1 div.sk-parallel-item:last-child::after {align-self: flex-start;width: 50%;}#sk-container-id-1 div.sk-parallel-item:only-child::after {width: 0;}#sk-container-id-1 div.sk-dashed-wrapped {border: 1px dashed gray;margin: 0 0.4em 0.5em 0.4em;box-sizing: border-box;padding-bottom: 0.4em;background-color: white;}#sk-container-id-1 div.sk-label label {font-family: monospace;font-weight: bold;display: inline-block;line-height: 1.2em;}#sk-container-id-1 div.sk-label-container {text-align: center;}#sk-container-id-1 div.sk-container {/* jupyter's `normalize.less` sets `[hidden] { display: none; }` but bootstrap.min.css set `[hidden] { display: none !important; }` so we also need the `!important` here to be able to override the default hidden behavior on the sphinx rendered scikit-learn.org. See: https://github.com/scikit-learn/scikit-learn/issues/21755 */display: inline-block !important;position: relative;}#sk-container-id-1 div.sk-text-repr-fallback {display: none;}</style><div id=\"sk-container-id-1\" class=\"sk-top-container\"><div class=\"sk-text-repr-fallback\"><pre>DecisionTreeClassifier(random_state=11)</pre><b>In a Jupyter environment, please rerun this cell to show the HTML representation or trust the notebook. <br />On GitHub, the HTML representation is unable to render, please try loading this page with nbviewer.org.</b></div><div class=\"sk-container\" hidden><div class=\"sk-item\"><div class=\"sk-estimator sk-toggleable\"><input class=\"sk-toggleable__control sk-hidden--visually\" id=\"sk-estimator-id-1\" type=\"checkbox\" checked><label for=\"sk-estimator-id-1\" class=\"sk-toggleable__label sk-toggleable__label-arrow\">DecisionTreeClassifier</label><div class=\"sk-toggleable__content\"><pre>DecisionTreeClassifier(random_state=11)</pre></div></div></div></div></div>"
     },
     "execution_count": 7,
     "metadata": {},
     "output_type": "execute_result"
    }
   ],
   "source": [
    "dt_clf.fit(X_train, y_train)"
   ],
   "metadata": {
    "collapsed": false,
    "pycharm": {
     "name": "#%%\n"
    }
   }
  },
  {
   "cell_type": "code",
   "execution_count": 8,
   "outputs": [],
   "source": [
    "pred = dt_clf.predict(X_test)"
   ],
   "metadata": {
    "collapsed": false,
    "pycharm": {
     "name": "#%%\n"
    }
   }
  },
  {
   "cell_type": "code",
   "execution_count": 9,
   "outputs": [
    {
     "name": "stdout",
     "output_type": "stream",
     "text": [
      "예측 정확도: 0.9333\n"
     ]
    }
   ],
   "source": [
    "from sklearn.metrics import accuracy_score\n",
    "print('예측 정확도: {0:.4f}'.format(accuracy_score(y_test, pred)))"
   ],
   "metadata": {
    "collapsed": false,
    "pycharm": {
     "name": "#%%\n"
    }
   }
  },
  {
   "cell_type": "markdown",
   "source": [
    "# 분류 프로세스\n",
    "- 데이터셋 분리(train_test_split)\n",
    "- 모델 학습(fit)\n",
    "- 예측 수행(predict)\n",
    "- 평가(accuray_score)"
   ],
   "metadata": {
    "collapsed": false,
    "pycharm": {
     "name": "#%% md\n"
    }
   }
  },
  {
   "cell_type": "markdown",
   "source": [
    "Estimator 이해하기\n",
    "fit(), predict() 메서드"
   ],
   "metadata": {
    "collapsed": false,
    "pycharm": {
     "name": "#%% md\n"
    }
   }
  },
  {
   "cell_type": "code",
   "execution_count": 10,
   "outputs": [
    {
     "name": "stdout",
     "output_type": "stream",
     "text": [
      "<class 'sklearn.utils._bunch.Bunch'>\n"
     ]
    }
   ],
   "source": [
    "from sklearn.datasets import load_iris\n",
    "\n",
    "iris_data = load_iris()\n",
    "print(type(iris_data))"
   ],
   "metadata": {
    "collapsed": false,
    "pycharm": {
     "name": "#%%\n"
    }
   }
  },
  {
   "cell_type": "code",
   "execution_count": 11,
   "outputs": [
    {
     "name": "stdout",
     "output_type": "stream",
     "text": [
      "붓꽃 데이터 셋트의 키 dict_keys(['data', 'target', 'frame', 'target_names', 'DESCR', 'feature_names', 'filename', 'data_module'])\n"
     ]
    }
   ],
   "source": [
    "keys = iris_data.keys()\n",
    "print('붓꽃 데이터 셋트의 키', keys)"
   ],
   "metadata": {
    "collapsed": false,
    "pycharm": {
     "name": "#%%\n"
    }
   }
  },
  {
   "cell_type": "code",
   "execution_count": 12,
   "outputs": [
    {
     "name": "stdout",
     "output_type": "stream",
     "text": [
      "\n",
      " feature_names의 type : <class 'list'>\n",
      " feature_names 의 shape : 4\n",
      "['sepal length (cm)', 'sepal width (cm)', 'petal length (cm)', 'petal width (cm)']\n",
      "\n",
      " target_names의 type : <class 'numpy.ndarray'>\n",
      "target_names의 shape : 3\n",
      "['setosa' 'versicolor' 'virginica']\n",
      "\n",
      " data 의 type : <class 'numpy.ndarray'>\n",
      " data의 shape : (150, 4)\n",
      "[[5.1 3.5 1.4 0.2]\n",
      " [4.9 3.  1.4 0.2]\n",
      " [4.7 3.2 1.3 0.2]\n",
      " [4.6 3.1 1.5 0.2]\n",
      " [5.  3.6 1.4 0.2]\n",
      " [5.4 3.9 1.7 0.4]\n",
      " [4.6 3.4 1.4 0.3]\n",
      " [5.  3.4 1.5 0.2]\n",
      " [4.4 2.9 1.4 0.2]\n",
      " [4.9 3.1 1.5 0.1]\n",
      " [5.4 3.7 1.5 0.2]\n",
      " [4.8 3.4 1.6 0.2]\n",
      " [4.8 3.  1.4 0.1]\n",
      " [4.3 3.  1.1 0.1]\n",
      " [5.8 4.  1.2 0.2]\n",
      " [5.7 4.4 1.5 0.4]\n",
      " [5.4 3.9 1.3 0.4]\n",
      " [5.1 3.5 1.4 0.3]\n",
      " [5.7 3.8 1.7 0.3]\n",
      " [5.1 3.8 1.5 0.3]\n",
      " [5.4 3.4 1.7 0.2]\n",
      " [5.1 3.7 1.5 0.4]\n",
      " [4.6 3.6 1.  0.2]\n",
      " [5.1 3.3 1.7 0.5]\n",
      " [4.8 3.4 1.9 0.2]\n",
      " [5.  3.  1.6 0.2]\n",
      " [5.  3.4 1.6 0.4]\n",
      " [5.2 3.5 1.5 0.2]\n",
      " [5.2 3.4 1.4 0.2]\n",
      " [4.7 3.2 1.6 0.2]\n",
      " [4.8 3.1 1.6 0.2]\n",
      " [5.4 3.4 1.5 0.4]\n",
      " [5.2 4.1 1.5 0.1]\n",
      " [5.5 4.2 1.4 0.2]\n",
      " [4.9 3.1 1.5 0.2]\n",
      " [5.  3.2 1.2 0.2]\n",
      " [5.5 3.5 1.3 0.2]\n",
      " [4.9 3.6 1.4 0.1]\n",
      " [4.4 3.  1.3 0.2]\n",
      " [5.1 3.4 1.5 0.2]\n",
      " [5.  3.5 1.3 0.3]\n",
      " [4.5 2.3 1.3 0.3]\n",
      " [4.4 3.2 1.3 0.2]\n",
      " [5.  3.5 1.6 0.6]\n",
      " [5.1 3.8 1.9 0.4]\n",
      " [4.8 3.  1.4 0.3]\n",
      " [5.1 3.8 1.6 0.2]\n",
      " [4.6 3.2 1.4 0.2]\n",
      " [5.3 3.7 1.5 0.2]\n",
      " [5.  3.3 1.4 0.2]\n",
      " [7.  3.2 4.7 1.4]\n",
      " [6.4 3.2 4.5 1.5]\n",
      " [6.9 3.1 4.9 1.5]\n",
      " [5.5 2.3 4.  1.3]\n",
      " [6.5 2.8 4.6 1.5]\n",
      " [5.7 2.8 4.5 1.3]\n",
      " [6.3 3.3 4.7 1.6]\n",
      " [4.9 2.4 3.3 1. ]\n",
      " [6.6 2.9 4.6 1.3]\n",
      " [5.2 2.7 3.9 1.4]\n",
      " [5.  2.  3.5 1. ]\n",
      " [5.9 3.  4.2 1.5]\n",
      " [6.  2.2 4.  1. ]\n",
      " [6.1 2.9 4.7 1.4]\n",
      " [5.6 2.9 3.6 1.3]\n",
      " [6.7 3.1 4.4 1.4]\n",
      " [5.6 3.  4.5 1.5]\n",
      " [5.8 2.7 4.1 1. ]\n",
      " [6.2 2.2 4.5 1.5]\n",
      " [5.6 2.5 3.9 1.1]\n",
      " [5.9 3.2 4.8 1.8]\n",
      " [6.1 2.8 4.  1.3]\n",
      " [6.3 2.5 4.9 1.5]\n",
      " [6.1 2.8 4.7 1.2]\n",
      " [6.4 2.9 4.3 1.3]\n",
      " [6.6 3.  4.4 1.4]\n",
      " [6.8 2.8 4.8 1.4]\n",
      " [6.7 3.  5.  1.7]\n",
      " [6.  2.9 4.5 1.5]\n",
      " [5.7 2.6 3.5 1. ]\n",
      " [5.5 2.4 3.8 1.1]\n",
      " [5.5 2.4 3.7 1. ]\n",
      " [5.8 2.7 3.9 1.2]\n",
      " [6.  2.7 5.1 1.6]\n",
      " [5.4 3.  4.5 1.5]\n",
      " [6.  3.4 4.5 1.6]\n",
      " [6.7 3.1 4.7 1.5]\n",
      " [6.3 2.3 4.4 1.3]\n",
      " [5.6 3.  4.1 1.3]\n",
      " [5.5 2.5 4.  1.3]\n",
      " [5.5 2.6 4.4 1.2]\n",
      " [6.1 3.  4.6 1.4]\n",
      " [5.8 2.6 4.  1.2]\n",
      " [5.  2.3 3.3 1. ]\n",
      " [5.6 2.7 4.2 1.3]\n",
      " [5.7 3.  4.2 1.2]\n",
      " [5.7 2.9 4.2 1.3]\n",
      " [6.2 2.9 4.3 1.3]\n",
      " [5.1 2.5 3.  1.1]\n",
      " [5.7 2.8 4.1 1.3]\n",
      " [6.3 3.3 6.  2.5]\n",
      " [5.8 2.7 5.1 1.9]\n",
      " [7.1 3.  5.9 2.1]\n",
      " [6.3 2.9 5.6 1.8]\n",
      " [6.5 3.  5.8 2.2]\n",
      " [7.6 3.  6.6 2.1]\n",
      " [4.9 2.5 4.5 1.7]\n",
      " [7.3 2.9 6.3 1.8]\n",
      " [6.7 2.5 5.8 1.8]\n",
      " [7.2 3.6 6.1 2.5]\n",
      " [6.5 3.2 5.1 2. ]\n",
      " [6.4 2.7 5.3 1.9]\n",
      " [6.8 3.  5.5 2.1]\n",
      " [5.7 2.5 5.  2. ]\n",
      " [5.8 2.8 5.1 2.4]\n",
      " [6.4 3.2 5.3 2.3]\n",
      " [6.5 3.  5.5 1.8]\n",
      " [7.7 3.8 6.7 2.2]\n",
      " [7.7 2.6 6.9 2.3]\n",
      " [6.  2.2 5.  1.5]\n",
      " [6.9 3.2 5.7 2.3]\n",
      " [5.6 2.8 4.9 2. ]\n",
      " [7.7 2.8 6.7 2. ]\n",
      " [6.3 2.7 4.9 1.8]\n",
      " [6.7 3.3 5.7 2.1]\n",
      " [7.2 3.2 6.  1.8]\n",
      " [6.2 2.8 4.8 1.8]\n",
      " [6.1 3.  4.9 1.8]\n",
      " [6.4 2.8 5.6 2.1]\n",
      " [7.2 3.  5.8 1.6]\n",
      " [7.4 2.8 6.1 1.9]\n",
      " [7.9 3.8 6.4 2. ]\n",
      " [6.4 2.8 5.6 2.2]\n",
      " [6.3 2.8 5.1 1.5]\n",
      " [6.1 2.6 5.6 1.4]\n",
      " [7.7 3.  6.1 2.3]\n",
      " [6.3 3.4 5.6 2.4]\n",
      " [6.4 3.1 5.5 1.8]\n",
      " [6.  3.  4.8 1.8]\n",
      " [6.9 3.1 5.4 2.1]\n",
      " [6.7 3.1 5.6 2.4]\n",
      " [6.9 3.1 5.1 2.3]\n",
      " [5.8 2.7 5.1 1.9]\n",
      " [6.8 3.2 5.9 2.3]\n",
      " [6.7 3.3 5.7 2.5]\n",
      " [6.7 3.  5.2 2.3]\n",
      " [6.3 2.5 5.  1.9]\n",
      " [6.5 3.  5.2 2. ]\n",
      " [6.2 3.4 5.4 2.3]\n",
      " [5.9 3.  5.1 1.8]]\n",
      "\n",
      " target의 type : <class 'numpy.ndarray'>\n",
      "target의 shape : 150\n",
      "[0 0 0 0 0 0 0 0 0 0 0 0 0 0 0 0 0 0 0 0 0 0 0 0 0 0 0 0 0 0 0 0 0 0 0 0 0\n",
      " 0 0 0 0 0 0 0 0 0 0 0 0 0 1 1 1 1 1 1 1 1 1 1 1 1 1 1 1 1 1 1 1 1 1 1 1 1\n",
      " 1 1 1 1 1 1 1 1 1 1 1 1 1 1 1 1 1 1 1 1 1 1 1 1 1 1 2 2 2 2 2 2 2 2 2 2 2\n",
      " 2 2 2 2 2 2 2 2 2 2 2 2 2 2 2 2 2 2 2 2 2 2 2 2 2 2 2 2 2 2 2 2 2 2 2 2 2\n",
      " 2 2]\n"
     ]
    }
   ],
   "source": [
    "print('\\n feature_names의 type :', type(iris_data.feature_names))\n",
    "print(' feature_names 의 shape :', len(iris_data.feature_names))\n",
    "print(iris_data.feature_names)\n",
    "\n",
    "print('\\n target_names의 type :', type(iris_data.target_names))\n",
    "print('target_names의 shape :', len(iris_data.target_names))\n",
    "print(iris_data.target_names)\n",
    "\n",
    "print('\\n data 의 type :', type(iris_data.data))\n",
    "print(' data의 shape :', iris_data.data.shape)\n",
    "print(iris_data['data'])\n",
    "\n",
    "print('\\n target의 type :', type(iris_data.target))\n",
    "print('target의 shape :', len(iris_data.target))\n",
    "print(iris_data.target)"
   ],
   "metadata": {
    "collapsed": false,
    "pycharm": {
     "name": "#%%\n"
    }
   }
  },
  {
   "cell_type": "markdown",
   "source": [
    "# Model Selection 모듈"
   ],
   "metadata": {
    "collapsed": false,
    "pycharm": {
     "name": "#%% md\n"
    }
   }
  },
  {
   "cell_type": "markdown",
   "source": [
    "## 학습/테스트 데이터 세트 분리 - train_test_split()"
   ],
   "metadata": {
    "collapsed": false,
    "pycharm": {
     "name": "#%% md\n"
    }
   }
  },
  {
   "cell_type": "code",
   "execution_count": 13,
   "outputs": [
    {
     "name": "stdout",
     "output_type": "stream",
     "text": [
      "예측 정확도 : 1.0\n"
     ]
    }
   ],
   "source": [
    "from sklearn.datasets import load_iris\n",
    "from sklearn.tree import DecisionTreeClassifier\n",
    "from sklearn.metrics import accuracy_score\n",
    "\n",
    "iris = load_iris()\n",
    "dt_clf = DecisionTreeClassifier()\n",
    "train_data = iris.data\n",
    "train_label = iris.target\n",
    "dt_clf.fit(train_data, train_label)\n",
    "\n",
    "pred = dt_clf.predict(train_data)\n",
    "print('예측 정확도 :', accuracy_score(train_label, pred))\n",
    "\n",
    "# 학습데이터로 예측을 진행하고 평가하면, 이미 학습한 데이터 세트를 기반으로 예측했기 때문에 100%의 정확도가 나온다."
   ],
   "metadata": {
    "collapsed": false,
    "pycharm": {
     "name": "#%%\n"
    }
   }
  },
  {
   "cell_type": "code",
   "execution_count": 14,
   "outputs": [],
   "source": [
    "from sklearn.tree import DecisionTreeClassifier\n",
    "from sklearn.metrics import accuracy_score\n",
    "from sklearn.datasets import load_iris\n",
    "from sklearn.model_selection import train_test_split\n",
    "\n",
    "dt_clf = DecisionTreeClassifier()\n",
    "iris_data = load_iris()\n",
    "\n",
    "X_train, X_test, y_train, y_test = train_test_split(iris_data.data, iris_data.target, test_size=0.3, random_state=11)"
   ],
   "metadata": {
    "collapsed": false,
    "pycharm": {
     "name": "#%%\n"
    }
   }
  },
  {
   "cell_type": "code",
   "execution_count": 15,
   "outputs": [
    {
     "name": "stdout",
     "output_type": "stream",
     "text": [
      "예측 정확도 : 0.9111\n"
     ]
    }
   ],
   "source": [
    "dt_clf.fit(X_train, y_train)\n",
    "pred = dt_clf.predict(X_test)\n",
    "print(f'예측 정확도 : {accuracy_score(y_test, pred):.4f}')"
   ],
   "metadata": {
    "collapsed": false,
    "pycharm": {
     "name": "#%%\n"
    }
   }
  },
  {
   "cell_type": "markdown",
   "source": [
    "# 교차검증\n",
    "- 과적합 : 모델이 학습 데이터에만 과도하게 최적화 되어, 실제 예측을 다른 데이터로 수행할 경우 예측 성능이 과도하게 떨어지는 것\n",
    "- 고정된 학습데이터와 테스트 데이터로 평가하다보면, 테으스 테이터에만 과적ㅇ합 되는 학습모델이 만들어짐\n",
    "- 교차검증은 데이터 편중을 막기 위해서, 별도의 여러 세트로 구성된 학습 데이터 세트와 검증 데이터 세트에서 학습과 평가를 수행하는 것\n",
    "__대부분의 ML 모델 성능 평가는 교차 검증을 기반으로 1차 평가를 한 뒤에 최종적으로 테스트 데이터 세트에 적용해 평가하는 프로세스임__\n",
    "\n",
    "### K 폴드 교차 검증\n",
    "![이미지](data:image/png;base64,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)\n"
   ],
   "metadata": {
    "collapsed": false,
    "pycharm": {
     "name": "#%% md\n"
    }
   }
  },
  {
   "cell_type": "markdown",
   "source": [
    "- 5등분 하여 학습과 검증을 위한 데이터 세트로 변경을 하면서 5번 평가를 수행한 뒤 5개 평가를 평균한 결과를 가지고 예측 성능을 평가함."
   ],
   "metadata": {
    "collapsed": false,
    "pycharm": {
     "name": "#%% md\n"
    }
   }
  },
  {
   "cell_type": "code",
   "execution_count": 16,
   "outputs": [
    {
     "name": "stdout",
     "output_type": "stream",
     "text": [
      "붓꽃 데이터 세트 크기 : 150\n"
     ]
    }
   ],
   "source": [
    "from sklearn.tree import DecisionTreeClassifier\n",
    "from sklearn.metrics import accuracy_score\n",
    "from sklearn.model_selection import KFold\n",
    "import numpy as np\n",
    "\n",
    "iris = load_iris()\n",
    "features = iris.data\n",
    "label = iris.target\n",
    "dt_clf = DecisionTreeClassifier(random_state=156)\n",
    "\n",
    "# 5개의 폴드 세트로 분리하는 KFold 객체와 폴드 세트별 정확도를 담을 리스트 객체 생성\n",
    "kfold = KFold(n_splits=5)\n",
    "cv_accuracy = list()\n",
    "print('붓꽃 데이터 세트 크기 :', features.shape[0])\n"
   ],
   "metadata": {
    "collapsed": false,
    "pycharm": {
     "name": "#%%\n"
    }
   }
  },
  {
   "cell_type": "code",
   "execution_count": 19,
   "outputs": [
    {
     "name": "stdout",
     "output_type": "stream",
     "text": [
      "\n",
      "#1 교차검증정확도 : 1.0, 학습데이터 크기 120, 검증 데이터 크기 30\n",
      "\n",
      "#1 검증세트 인덱스 : [ 0  1  2  3  4  5  6  7  8  9 10 11 12 13 14 15 16 17 18 19 20 21 22 23\n",
      " 24 25 26 27 28 29]\n",
      "\n",
      "#2 교차검증정확도 : 0.9667, 학습데이터 크기 120, 검증 데이터 크기 30\n",
      "\n",
      "#2 검증세트 인덱스 : [30 31 32 33 34 35 36 37 38 39 40 41 42 43 44 45 46 47 48 49 50 51 52 53\n",
      " 54 55 56 57 58 59]\n",
      "\n",
      "#3 교차검증정확도 : 0.8667, 학습데이터 크기 120, 검증 데이터 크기 30\n",
      "\n",
      "#3 검증세트 인덱스 : [60 61 62 63 64 65 66 67 68 69 70 71 72 73 74 75 76 77 78 79 80 81 82 83\n",
      " 84 85 86 87 88 89]\n",
      "\n",
      "#4 교차검증정확도 : 0.9333, 학습데이터 크기 120, 검증 데이터 크기 30\n",
      "\n",
      "#4 검증세트 인덱스 : [ 90  91  92  93  94  95  96  97  98  99 100 101 102 103 104 105 106 107\n",
      " 108 109 110 111 112 113 114 115 116 117 118 119]\n",
      "\n",
      "#5 교차검증정확도 : 0.7333, 학습데이터 크기 120, 검증 데이터 크기 30\n",
      "\n",
      "#5 검증세트 인덱스 : [120 121 122 123 124 125 126 127 128 129 130 131 132 133 134 135 136 137\n",
      " 138 139 140 141 142 143 144 145 146 147 148 149]\n",
      "\n",
      "## 평균 검증 정확도 : 0.9\n"
     ]
    }
   ],
   "source": [
    "n_iter = 0\n",
    "\n",
    "# KFold 객체의 split()을 호출하면 폴드별 학습용, 검증용 테스트의 로우 인덱스를 array로 반환\n",
    "for train_index, test_index in kfold.split(features):\n",
    "    # kfold.split()으로 반환된 인덱스를 이용해 학습용, 검증용 테스트 데이터 추출\n",
    "    X_train, X_test = features[train_index], features[test_index]\n",
    "    y_train, y_test = label[train_index], label[test_index]\n",
    "    # 학습 및 예측\n",
    "    dt_clf.fit(X_train, y_train)\n",
    "    pred = dt_clf.predict(X_test)\n",
    "    n_iter += 1\n",
    "\n",
    "    # 반복 시마다 정확도 측정\n",
    "    accuracy = np.round(accuracy_score(y_test, pred), 4)\n",
    "    train_size = X_train.shape[0]\n",
    "    test_size = X_test.shape[0]\n",
    "\n",
    "    print('\\n#{} 교차검증정확도 : {}, 학습데이터 크기 {}, 검증 데이터 크기 {}'.format(n_iter, accuracy, train_size, test_size))\n",
    "    print('\\n#{} 검증세트 인덱스 : {}'.format(n_iter, test_index))\n",
    "    cv_accuracy.append(accuracy)\n",
    "\n",
    "# 개별 iteration별 정확도를 합하여 평균 정확도 계산\n",
    "print('\\n## 평균 검증 정확도 :', np.mean(cv_accuracy))\n"
   ],
   "metadata": {
    "collapsed": false,
    "pycharm": {
     "name": "#%%\n"
    }
   }
  },
  {
   "cell_type": "markdown",
   "source": [
    "# Stratified K 폴드\n",
    "- 불균형한 분포도를 가진 레이블 데이터 집합을 위한 K폴드 방식\n",
    "- split() 메서드의 인자로 피처 데이터 세트 뿐만 아니라 레이블 데이터 세트도 필요하다"
   ],
   "metadata": {
    "collapsed": false,
    "pycharm": {
     "name": "#%% md\n"
    }
   }
  },
  {
   "cell_type": "code",
   "execution_count": 20,
   "outputs": [
    {
     "data": {
      "text/plain": "0    50\n1    50\n2    50\nName: label, dtype: int64"
     },
     "execution_count": 20,
     "metadata": {},
     "output_type": "execute_result"
    }
   ],
   "source": [
    "import pandas as pd\n",
    "\n",
    "iris = load_iris()\n",
    "iris_df = pd.DataFrame(data=iris.data, columns=iris.feature_names)\n",
    "iris_df['label'] = iris.target\n",
    "iris_df['label'].value_counts()"
   ],
   "metadata": {
    "collapsed": false,
    "pycharm": {
     "name": "#%%\n"
    }
   }
  },
  {
   "cell_type": "code",
   "execution_count": 22,
   "outputs": [
    {
     "name": "stdout",
     "output_type": "stream",
     "text": [
      "## 교차검증 : 1\n",
      "학습 데이터 레이블 분포 1    50\n",
      "2    50\n",
      "Name: label, dtype: int64\n",
      "검증 데이터 레이블 분포 0    50\n",
      "Name: label, dtype: int64\n",
      "## 교차검증 : 2\n",
      "학습 데이터 레이블 분포 0    50\n",
      "2    50\n",
      "Name: label, dtype: int64\n",
      "검증 데이터 레이블 분포 1    50\n",
      "Name: label, dtype: int64\n",
      "## 교차검증 : 3\n",
      "학습 데이터 레이블 분포 0    50\n",
      "1    50\n",
      "Name: label, dtype: int64\n",
      "검증 데이터 레이블 분포 2    50\n",
      "Name: label, dtype: int64\n"
     ]
    }
   ],
   "source": [
    "kfold = KFold(n_splits=3)\n",
    "n_iter = 0\n",
    "for train_index, test_index in kfold.split(iris_df):\n",
    "    n_iter += 1\n",
    "    label_train = iris_df['label'].iloc[train_index]\n",
    "    label_test = iris_df['label'].iloc[test_index]\n",
    "\n",
    "    print('## 교차검증 : {}'.format(n_iter))\n",
    "    print('학습 데이터 레이블 분포 {}'.format(label_train.value_counts()))\n",
    "    print('검증 데이터 레이블 분포 {}'.format(label_test.value_counts()))"
   ],
   "metadata": {
    "collapsed": false,
    "pycharm": {
     "name": "#%%\n"
    }
   }
  },
  {
   "cell_type": "code",
   "execution_count": 25,
   "outputs": [
    {
     "name": "stdout",
     "output_type": "stream",
     "text": [
      "## 교차검증 : 1\n",
      "학습 데이터 레이블 분포 : 2    34\n",
      "0    33\n",
      "1    33\n",
      "Name: label, dtype: int64\n",
      "검증 데이터 레이블 분포 : 0    17\n",
      "1    17\n",
      "2    16\n",
      "Name: label, dtype: int64\n",
      "\n",
      "## 교차검증 : 2\n",
      "학습 데이터 레이블 분포 : 1    34\n",
      "0    33\n",
      "2    33\n",
      "Name: label, dtype: int64\n",
      "검증 데이터 레이블 분포 : 0    17\n",
      "2    17\n",
      "1    16\n",
      "Name: label, dtype: int64\n",
      "\n",
      "## 교차검증 : 3\n",
      "학습 데이터 레이블 분포 : 0    34\n",
      "1    33\n",
      "2    33\n",
      "Name: label, dtype: int64\n",
      "검증 데이터 레이블 분포 : 1    17\n",
      "2    17\n",
      "0    16\n",
      "Name: label, dtype: int64\n",
      "\n"
     ]
    }
   ],
   "source": [
    "from sklearn.model_selection import StratifiedKFold\n",
    "\n",
    "skf = StratifiedKFold(n_splits=3)\n",
    "n_iter = 0\n",
    "for train_index, test_index in skf.split(iris_df, iris_df['label']):\n",
    "    n_iter += 1\n",
    "    label_train = iris_df['label'].loc[train_index]\n",
    "    label_test = iris_df['label'].loc[test_index]\n",
    "    print('## 교차검증 : {}'.format(n_iter))\n",
    "    print('학습 데이터 레이블 분포 : {}'.format(label_train.value_counts()))\n",
    "    print('검증 데이터 레이블 분포 : {}'.format(label_test.value_counts()))\n",
    "    print()\n"
   ],
   "metadata": {
    "collapsed": false,
    "pycharm": {
     "name": "#%%\n"
    }
   }
  },
  {
   "cell_type": "code",
   "execution_count": 30,
   "outputs": [
    {
     "name": "stdout",
     "output_type": "stream",
     "text": [
      "## 1 교차검증 정확도 : 0.98, 학습 데이터 크기 : 100, 검증 데이터 크기 : 50\n",
      "## 1 검증 세트 인덱스 : [  0   1   2   3   4   5   6   7   8   9  10  11  12  13  14  15  16  50\n",
      "  51  52  53  54  55  56  57  58  59  60  61  62  63  64  65  66 100 101\n",
      " 102 103 104 105 106 107 108 109 110 111 112 113 114 115]\n",
      "## 2 교차검증 정확도 : 0.94, 학습 데이터 크기 : 100, 검증 데이터 크기 : 50\n",
      "## 2 검증 세트 인덱스 : [ 17  18  19  20  21  22  23  24  25  26  27  28  29  30  31  32  33  67\n",
      "  68  69  70  71  72  73  74  75  76  77  78  79  80  81  82 116 117 118\n",
      " 119 120 121 122 123 124 125 126 127 128 129 130 131 132]\n",
      "## 3 교차검증 정확도 : 0.98, 학습 데이터 크기 : 100, 검증 데이터 크기 : 50\n",
      "## 3 검증 세트 인덱스 : [ 34  35  36  37  38  39  40  41  42  43  44  45  46  47  48  49  83  84\n",
      "  85  86  87  88  89  90  91  92  93  94  95  96  97  98  99 133 134 135\n",
      " 136 137 138 139 140 141 142 143 144 145 146 147 148 149]\n",
      "\n",
      "## 교차 검증별 정확도 : [0.98 0.94 0.98]\n",
      "## 평균 검증 정확도 : 0.9667\n"
     ]
    }
   ],
   "source": [
    "dt_clf = DecisionTreeClassifier(random_state=156)\n",
    "\n",
    "skfold = StratifiedKFold(n_splits=3)\n",
    "n_iter=0\n",
    "cv_accuracy = list()\n",
    "\n",
    "for train_index, test_index in skfold.split(features, label):\n",
    "    x_train, x_test = features[train_index], features[test_index]\n",
    "    y_train, y_test = label[train_index], label[test_index]\n",
    "\n",
    "    dt_clf.fit(x_train, y_train)\n",
    "    pred = dt_clf.predict(x_test)\n",
    "\n",
    "    # 반복 시마다 정확도 측정\n",
    "    n_iter += 1\n",
    "    accuracy = np.round(accuracy_score(y_test, pred), 4)\n",
    "    train_size = x_train.shape[0]\n",
    "    test_size = x_test.shape[0]\n",
    "    print(f'## {n_iter} 교차검증 정확도 : {accuracy}, 학습 데이터 크기 : {train_size}, 검증 데이터 크기 : {test_size}')\n",
    "    print(f'## {n_iter} 검증 세트 인덱스 : {test_index}')\n",
    "    cv_accuracy.append(accuracy)\n",
    "\n",
    "# 교차 검증별 정확도 및 평균 정확도 계산\n",
    "print('\\n## 교차 검증별 정확도 :', np.round(cv_accuracy, 4))\n",
    "print('## 평균 검증 정확도 :', np.round(np.mean(cv_accuracy), 4))"
   ],
   "metadata": {
    "collapsed": false,
    "pycharm": {
     "name": "#%%\n"
    }
   }
  },
  {
   "cell_type": "markdown",
   "source": [
    "## cross_val_score()\n",
    "- 사이킷런에서 제공하는 교차 검증을 좀 더 편리하게 수행할 수 있는 API\n",
    "1. 폴드 세트를 설정\n",
    "2. for 루프에서 반복으로 학습 및 테스트 데이터의 인덱스를 추출\n",
    "3. 반복적으로 학습과 예측을 수행하고 예측 성능을 반환\n",
    "\n",
    "cross_val_score(estimator, X, y=None, scoring=None, cv=None, ...)\n",
    "    - estimator : 알고리즘 클래스\n",
    "    - X : 피쳐 데이터 세트\n",
    "    - y : 레이블 데이터 세트\n",
    "    - scoring : 예측 성능 평가 지표\n",
    "    - cv : 교차 검증 폴드 수\n",
    "\n",
    "*cross_validate()로 여러개의 성능지표 사용 가능*"
   ],
   "metadata": {
    "collapsed": false,
    "pycharm": {
     "name": "#%% md\n"
    }
   }
  },
  {
   "cell_type": "code",
   "execution_count": 2,
   "outputs": [],
   "source": [
    "import numpy as np"
   ],
   "metadata": {
    "collapsed": false,
    "pycharm": {
     "name": "#%%\n"
    }
   }
  },
  {
   "cell_type": "code",
   "execution_count": 4,
   "outputs": [
    {
     "ename": "ValueError",
     "evalue": "For evaluating multiple scores, use sklearn.model_selection.cross_validate instead. ['accuracy', 'precision'] was passed.",
     "output_type": "error",
     "traceback": [
      "\u001B[0;31m---------------------------------------------------------------------------\u001B[0m",
      "\u001B[0;31mValueError\u001B[0m                                Traceback (most recent call last)",
      "Input \u001B[0;32mIn [4]\u001B[0m, in \u001B[0;36m<cell line: 11>\u001B[0;34m()\u001B[0m\n\u001B[1;32m      8\u001B[0m data \u001B[38;5;241m=\u001B[39m iris_data\u001B[38;5;241m.\u001B[39mdata\n\u001B[1;32m      9\u001B[0m label \u001B[38;5;241m=\u001B[39m iris_data\u001B[38;5;241m.\u001B[39mtarget\n\u001B[0;32m---> 11\u001B[0m scores \u001B[38;5;241m=\u001B[39m \u001B[43mcross_val_score\u001B[49m\u001B[43m(\u001B[49m\u001B[43mdt_clf\u001B[49m\u001B[43m,\u001B[49m\u001B[43m \u001B[49m\u001B[43mdata\u001B[49m\u001B[43m,\u001B[49m\u001B[43m \u001B[49m\u001B[43mlabel\u001B[49m\u001B[43m,\u001B[49m\u001B[43m \u001B[49m\u001B[43mscoring\u001B[49m\u001B[38;5;241;43m=\u001B[39;49m\u001B[43m[\u001B[49m\u001B[38;5;124;43m'\u001B[39;49m\u001B[38;5;124;43maccuracy\u001B[39;49m\u001B[38;5;124;43m'\u001B[39;49m\u001B[43m,\u001B[49m\u001B[43m \u001B[49m\u001B[38;5;124;43m'\u001B[39;49m\u001B[38;5;124;43mprecision\u001B[39;49m\u001B[38;5;124;43m'\u001B[39;49m\u001B[43m]\u001B[49m\u001B[43m,\u001B[49m\u001B[43m \u001B[49m\u001B[43mcv\u001B[49m\u001B[38;5;241;43m=\u001B[39;49m\u001B[38;5;241;43m3\u001B[39;49m\u001B[43m)\u001B[49m\n\u001B[1;32m     13\u001B[0m \u001B[38;5;28mprint\u001B[39m(\u001B[38;5;124m'\u001B[39m\u001B[38;5;124m교차 검증별 정확도 :\u001B[39m\u001B[38;5;124m'\u001B[39m, np\u001B[38;5;241m.\u001B[39mround(scores, \u001B[38;5;241m4\u001B[39m))\n\u001B[1;32m     14\u001B[0m \u001B[38;5;28mprint\u001B[39m(\u001B[38;5;124m'\u001B[39m\u001B[38;5;124m평균 검증 정확도\u001B[39m\u001B[38;5;124m'\u001B[39m, np\u001B[38;5;241m.\u001B[39mround(np\u001B[38;5;241m.\u001B[39mmean(scores), \u001B[38;5;241m4\u001B[39m))\n",
      "File \u001B[0;32m/opt/homebrew/Caskroom/miniforge/base/envs/tensorflow2_p38/lib/python3.8/site-packages/sklearn/model_selection/_validation.py:513\u001B[0m, in \u001B[0;36mcross_val_score\u001B[0;34m(estimator, X, y, groups, scoring, cv, n_jobs, verbose, fit_params, pre_dispatch, error_score)\u001B[0m\n\u001B[1;32m    395\u001B[0m \u001B[38;5;124;03m\"\"\"Evaluate a score by cross-validation.\u001B[39;00m\n\u001B[1;32m    396\u001B[0m \n\u001B[1;32m    397\u001B[0m \u001B[38;5;124;03mRead more in the :ref:`User Guide <cross_validation>`.\u001B[39;00m\n\u001B[0;32m   (...)\u001B[0m\n\u001B[1;32m    510\u001B[0m \u001B[38;5;124;03m[0.3315057  0.08022103 0.03531816]\u001B[39;00m\n\u001B[1;32m    511\u001B[0m \u001B[38;5;124;03m\"\"\"\u001B[39;00m\n\u001B[1;32m    512\u001B[0m \u001B[38;5;66;03m# To ensure multimetric format is not supported\u001B[39;00m\n\u001B[0;32m--> 513\u001B[0m scorer \u001B[38;5;241m=\u001B[39m \u001B[43mcheck_scoring\u001B[49m\u001B[43m(\u001B[49m\u001B[43mestimator\u001B[49m\u001B[43m,\u001B[49m\u001B[43m \u001B[49m\u001B[43mscoring\u001B[49m\u001B[38;5;241;43m=\u001B[39;49m\u001B[43mscoring\u001B[49m\u001B[43m)\u001B[49m\n\u001B[1;32m    515\u001B[0m cv_results \u001B[38;5;241m=\u001B[39m cross_validate(\n\u001B[1;32m    516\u001B[0m     estimator\u001B[38;5;241m=\u001B[39mestimator,\n\u001B[1;32m    517\u001B[0m     X\u001B[38;5;241m=\u001B[39mX,\n\u001B[0;32m   (...)\u001B[0m\n\u001B[1;32m    526\u001B[0m     error_score\u001B[38;5;241m=\u001B[39merror_score,\n\u001B[1;32m    527\u001B[0m )\n\u001B[1;32m    528\u001B[0m \u001B[38;5;28;01mreturn\u001B[39;00m cv_results[\u001B[38;5;124m\"\u001B[39m\u001B[38;5;124mtest_score\u001B[39m\u001B[38;5;124m\"\u001B[39m]\n",
      "File \u001B[0;32m/opt/homebrew/Caskroom/miniforge/base/envs/tensorflow2_p38/lib/python3.8/site-packages/sklearn/metrics/_scorer.py:493\u001B[0m, in \u001B[0;36mcheck_scoring\u001B[0;34m(estimator, scoring, allow_none)\u001B[0m\n\u001B[1;32m    488\u001B[0m         \u001B[38;5;28;01mraise\u001B[39;00m \u001B[38;5;167;01mTypeError\u001B[39;00m(\n\u001B[1;32m    489\u001B[0m             \u001B[38;5;124m\"\u001B[39m\u001B[38;5;124mIf no scoring is specified, the estimator passed should \u001B[39m\u001B[38;5;124m\"\u001B[39m\n\u001B[1;32m    490\u001B[0m             \u001B[38;5;124m\"\u001B[39m\u001B[38;5;124mhave a \u001B[39m\u001B[38;5;124m'\u001B[39m\u001B[38;5;124mscore\u001B[39m\u001B[38;5;124m'\u001B[39m\u001B[38;5;124m method. The estimator \u001B[39m\u001B[38;5;132;01m%r\u001B[39;00m\u001B[38;5;124m does not.\u001B[39m\u001B[38;5;124m\"\u001B[39m \u001B[38;5;241m%\u001B[39m estimator\n\u001B[1;32m    491\u001B[0m         )\n\u001B[1;32m    492\u001B[0m \u001B[38;5;28;01melif\u001B[39;00m \u001B[38;5;28misinstance\u001B[39m(scoring, Iterable):\n\u001B[0;32m--> 493\u001B[0m     \u001B[38;5;28;01mraise\u001B[39;00m \u001B[38;5;167;01mValueError\u001B[39;00m(\n\u001B[1;32m    494\u001B[0m         \u001B[38;5;124m\"\u001B[39m\u001B[38;5;124mFor evaluating multiple scores, use \u001B[39m\u001B[38;5;124m\"\u001B[39m\n\u001B[1;32m    495\u001B[0m         \u001B[38;5;124m\"\u001B[39m\u001B[38;5;124msklearn.model_selection.cross_validate instead. \u001B[39m\u001B[38;5;124m\"\u001B[39m\n\u001B[1;32m    496\u001B[0m         \u001B[38;5;124m\"\u001B[39m\u001B[38;5;132;01m{0}\u001B[39;00m\u001B[38;5;124m was passed.\u001B[39m\u001B[38;5;124m\"\u001B[39m\u001B[38;5;241m.\u001B[39mformat(scoring)\n\u001B[1;32m    497\u001B[0m     )\n\u001B[1;32m    498\u001B[0m \u001B[38;5;28;01melse\u001B[39;00m:\n\u001B[1;32m    499\u001B[0m     \u001B[38;5;28;01mraise\u001B[39;00m \u001B[38;5;167;01mValueError\u001B[39;00m(\n\u001B[1;32m    500\u001B[0m         \u001B[38;5;124m\"\u001B[39m\u001B[38;5;124mscoring value should either be a callable, string or None. \u001B[39m\u001B[38;5;132;01m%r\u001B[39;00m\u001B[38;5;124m was passed\u001B[39m\u001B[38;5;124m\"\u001B[39m\n\u001B[1;32m    501\u001B[0m         \u001B[38;5;241m%\u001B[39m scoring\n\u001B[1;32m    502\u001B[0m     )\n",
      "\u001B[0;31mValueError\u001B[0m: For evaluating multiple scores, use sklearn.model_selection.cross_validate instead. ['accuracy', 'precision'] was passed."
     ]
    }
   ],
   "source": [
    "from sklearn.tree import DecisionTreeClassifier\n",
    "from sklearn.model_selection import cross_val_score, cross_validate\n",
    "from sklearn.datasets import load_iris\n",
    "\n",
    "iris_data = load_iris()\n",
    "dt_clf = DecisionTreeClassifier(random_state=156)\n",
    "\n",
    "data = iris_data.data\n",
    "label = iris_data.target\n",
    "\n",
    "scores = cross_val_score(dt_clf, data, label, scoring='accuracy', cv=3)\n",
    "\n",
    "print('교차 검증별 정확도 :', np.round(scores, 4))\n",
    "print('평균 검증 정확도', np.round(np.mean(scores), 4))"
   ],
   "metadata": {
    "collapsed": false,
    "pycharm": {
     "name": "#%%\n"
    }
   }
  },
  {
   "cell_type": "code",
   "execution_count": 33,
   "outputs": [
    {
     "name": "stdout",
     "output_type": "stream",
     "text": [
      "[0.98 0.94 0.98]\n"
     ]
    }
   ],
   "source": [
    "print(scores)"
   ],
   "metadata": {
    "collapsed": false,
    "pycharm": {
     "name": "#%%\n"
    }
   }
  },
  {
   "cell_type": "markdown",
   "source": [
    "# GridSearch CV\n",
    "- 교차 검증과 최적 하이퍼 파라미터 튜닝을 한번에 진행\n",
    "- Classifier나 Regressor와 같은 알고리즘에 사용되는 하이퍼 파라미터를 순차적으로 입력하면서 편리하게 최적의 하이퍼 파라미터를 도출\n",
    "\n",
    "## GridSearchCV 의 파라미터\n",
    "- estimator : classifier, regressor, pipeline이 사용될 수 있음\n",
    "- param_grid : key + 리스트 값을 가지는 딕셔너리, estimator의 튜닝을 위해 파라미터명과 사용되 ㄹ여러 파라이터 값을 지정\n",
    "- scoring: 예측 성능을 측정할 평가 방법 지정\n",
    "- cv : 교차 검증을 위해 분할되는 학습/테스트 세트 개수를 지정\n",
    "- refit : 디폴트가 True이며 True로 생성 시 최적의 하이퍼 파라미터를 찾은 뒤 입력된 estimator 객체에 해당 하이퍼 파라미터로 재학습"
   ],
   "metadata": {
    "collapsed": false,
    "pycharm": {
     "name": "#%% md\n"
    }
   }
  },
  {
   "cell_type": "code",
   "execution_count": 34,
   "outputs": [],
   "source": [
    "from sklearn.datasets import load_iris\n",
    "from sklearn.tree import DecisionTreeClassifier\n",
    "from sklearn.model_selection import GridSearchCV\n",
    "\n",
    "# 데이터를 로딩하고 학습 데이터와 테스트 데이터 분리\n",
    "iris_data = load_iris()\n",
    "x_train, x_test, y_train, y_test = train_test_split(iris_data.data, iris_data.target, test_size = 0.2, random_state=121)\n",
    "dt_clf = DecisionTreeClassifier()\n",
    "\n",
    "## 파라미터를 딕셔너리 형태로 설정\n",
    "parameters = {'max_depth':[1, 2, 3], 'min_samples_split':[2,3]}"
   ],
   "metadata": {
    "collapsed": false,
    "pycharm": {
     "name": "#%%\n"
    }
   }
  },
  {
   "cell_type": "code",
   "execution_count": 35,
   "outputs": [
    {
     "data": {
      "text/plain": "                                     params  mean_test_score  rank_test_score  \\\n0  {'max_depth': 1, 'min_samples_split': 2}         0.700000                5   \n1  {'max_depth': 1, 'min_samples_split': 3}         0.700000                5   \n2  {'max_depth': 2, 'min_samples_split': 2}         0.958333                3   \n3  {'max_depth': 2, 'min_samples_split': 3}         0.958333                3   \n4  {'max_depth': 3, 'min_samples_split': 2}         0.975000                1   \n5  {'max_depth': 3, 'min_samples_split': 3}         0.975000                1   \n\n   split0_test_score  split1_test_score  split2_test_score  \n0              0.700                0.7               0.70  \n1              0.700                0.7               0.70  \n2              0.925                1.0               0.95  \n3              0.925                1.0               0.95  \n4              0.975                1.0               0.95  \n5              0.975                1.0               0.95  ",
      "text/html": "<div>\n<style scoped>\n    .dataframe tbody tr th:only-of-type {\n        vertical-align: middle;\n    }\n\n    .dataframe tbody tr th {\n        vertical-align: top;\n    }\n\n    .dataframe thead th {\n        text-align: right;\n    }\n</style>\n<table border=\"1\" class=\"dataframe\">\n  <thead>\n    <tr style=\"text-align: right;\">\n      <th></th>\n      <th>params</th>\n      <th>mean_test_score</th>\n      <th>rank_test_score</th>\n      <th>split0_test_score</th>\n      <th>split1_test_score</th>\n      <th>split2_test_score</th>\n    </tr>\n  </thead>\n  <tbody>\n    <tr>\n      <th>0</th>\n      <td>{'max_depth': 1, 'min_samples_split': 2}</td>\n      <td>0.700000</td>\n      <td>5</td>\n      <td>0.700</td>\n      <td>0.7</td>\n      <td>0.70</td>\n    </tr>\n    <tr>\n      <th>1</th>\n      <td>{'max_depth': 1, 'min_samples_split': 3}</td>\n      <td>0.700000</td>\n      <td>5</td>\n      <td>0.700</td>\n      <td>0.7</td>\n      <td>0.70</td>\n    </tr>\n    <tr>\n      <th>2</th>\n      <td>{'max_depth': 2, 'min_samples_split': 2}</td>\n      <td>0.958333</td>\n      <td>3</td>\n      <td>0.925</td>\n      <td>1.0</td>\n      <td>0.95</td>\n    </tr>\n    <tr>\n      <th>3</th>\n      <td>{'max_depth': 2, 'min_samples_split': 3}</td>\n      <td>0.958333</td>\n      <td>3</td>\n      <td>0.925</td>\n      <td>1.0</td>\n      <td>0.95</td>\n    </tr>\n    <tr>\n      <th>4</th>\n      <td>{'max_depth': 3, 'min_samples_split': 2}</td>\n      <td>0.975000</td>\n      <td>1</td>\n      <td>0.975</td>\n      <td>1.0</td>\n      <td>0.95</td>\n    </tr>\n    <tr>\n      <th>5</th>\n      <td>{'max_depth': 3, 'min_samples_split': 3}</td>\n      <td>0.975000</td>\n      <td>1</td>\n      <td>0.975</td>\n      <td>1.0</td>\n      <td>0.95</td>\n    </tr>\n  </tbody>\n</table>\n</div>"
     },
     "execution_count": 35,
     "metadata": {},
     "output_type": "execute_result"
    }
   ],
   "source": [
    "import pandas as pd\n",
    "\n",
    "# param_grid의 하이퍼 파라미터를 3개의 train, test set fold로 나누어 테스트 수행 설정\n",
    "### refit=True가 default로 가장 좋은 파라미터 설정으로 재학습 시킴\n",
    "grid_dtree = GridSearchCV(dt_clf, param_grid=parameters, cv=3, refit=True)\n",
    "\n",
    "grid_dtree.fit(x_train, y_train)\n",
    "\n",
    "# GridSearchCV 결과를 추출해 DataFrame으로 변환\n",
    "scores_df = pd.DataFrame(grid_dtree.cv_results_)\n",
    "scores_df[['params', 'mean_test_score', 'rank_test_score', 'split0_test_score', 'split1_test_score', 'split2_test_score']]"
   ],
   "metadata": {
    "collapsed": false,
    "pycharm": {
     "name": "#%%\n"
    }
   }
  },
  {
   "cell_type": "code",
   "execution_count": 37,
   "outputs": [
    {
     "name": "stdout",
     "output_type": "stream",
     "text": [
      "GridSearchCV 최적 파라미터 : {'max_depth': 3, 'min_samples_split': 2}\n",
      "GridSearchCV 최고 정확도 :0.9750\n"
     ]
    }
   ],
   "source": [
    "print('GridSearchCV 최적 파라미터 :', grid_dtree.best_params_)\n",
    "print('GridSearchCV 최고 정확도 :{0:.4f}'.format(grid_dtree.best_score_))"
   ],
   "metadata": {
    "collapsed": false,
    "pycharm": {
     "name": "#%%\n"
    }
   }
  },
  {
   "cell_type": "code",
   "execution_count": 43,
   "outputs": [
    {
     "name": "stdout",
     "output_type": "stream",
     "text": [
      "테스트 데이터 정확도 0.9667\n"
     ]
    }
   ],
   "source": [
    "# GridSearchCV의 refit으로 이미 학습된 estimator 반환\n",
    "estimator = grid_dtree.best_estimator_\n",
    "\n",
    "# GridSearchCV의 best_estimator_는 이미 최적 학습이 되었으므로 별도 학습이 필요없음\n",
    "pred = estimator.predict(x_test)\n",
    "print(f'테스트 데이터 정확도 {accuracy_score(y_test, pred):.4f}')"
   ],
   "metadata": {
    "collapsed": false,
    "pycharm": {
     "name": "#%%\n"
    }
   }
  },
  {
   "cell_type": "markdown",
   "source": [
    "# 레이블 인코딩"
   ],
   "metadata": {
    "collapsed": false,
    "pycharm": {
     "name": "#%% md\n"
    }
   }
  },
  {
   "cell_type": "code",
   "execution_count": 1,
   "outputs": [
    {
     "name": "stdout",
     "output_type": "stream",
     "text": [
      "인코딩 변환값 : [0 1 4 5 3 3 2 2]\n"
     ]
    }
   ],
   "source": [
    "from sklearn.preprocessing import LabelEncoder\n",
    "\n",
    "items = ['TV', '냉장고', '전자레인지', '컴퓨터', '선풍기', '선풍기', '믹서', '믹서']\n",
    "\n",
    "encoder = LabelEncoder()\n",
    "encoder.fit(items)\n",
    "labels = encoder.transform(items)\n",
    "\n",
    "print('인코딩 변환값 :', labels)"
   ],
   "metadata": {
    "collapsed": false,
    "pycharm": {
     "name": "#%%\n"
    }
   }
  },
  {
   "cell_type": "code",
   "execution_count": 2,
   "outputs": [
    {
     "data": {
      "text/plain": "array(['TV', '냉장고', '믹서', '선풍기', '전자레인지', '컴퓨터'], dtype='<U5')"
     },
     "execution_count": 2,
     "metadata": {},
     "output_type": "execute_result"
    }
   ],
   "source": [
    "encoder.classes_"
   ],
   "metadata": {
    "collapsed": false,
    "pycharm": {
     "name": "#%%\n"
    }
   }
  },
  {
   "cell_type": "code",
   "execution_count": 3,
   "outputs": [
    {
     "name": "stdout",
     "output_type": "stream",
     "text": [
      "디코딩 원본 값 : ['전자레인지' '컴퓨터' '믹서' 'TV' '냉장고' '냉장고' '선풍기' '선풍기']\n"
     ]
    }
   ],
   "source": [
    "print('디코딩 원본 값 :', encoder.inverse_transform([4, 5, 2, 0, 1, 1, 3, 3]))"
   ],
   "metadata": {
    "collapsed": false,
    "pycharm": {
     "name": "#%%\n"
    }
   }
  },
  {
   "cell_type": "code",
   "execution_count": 5,
   "outputs": [
    {
     "name": "stdout",
     "output_type": "stream",
     "text": [
      "원-핫 인코딩 데이터\n",
      "[[1. 0. 0. 0. 0. 0.]\n",
      " [0. 1. 0. 0. 0. 0.]\n",
      " [0. 0. 0. 0. 1. 0.]\n",
      " [0. 0. 0. 0. 0. 1.]\n",
      " [0. 0. 0. 1. 0. 0.]\n",
      " [0. 0. 0. 1. 0. 0.]\n",
      " [0. 0. 1. 0. 0. 0.]\n",
      " [0. 0. 1. 0. 0. 0.]]\n",
      "원-핫 인코딩 데이터 차원\n",
      "(8, 6)\n"
     ]
    }
   ],
   "source": [
    "from sklearn.preprocessing import OneHotEncoder\n",
    "import numpy as np\n",
    "\n",
    "items = ['TV', '냉장고', '전자레인지', '컴퓨터', '선풍기', '선풍기', '믹서', '믹서']\n",
    "\n",
    "# 2차원 ndarray로 변환\n",
    "items = np.array(items).reshape(-1, 1)\n",
    "\n",
    "# 원핫 인코딩을 적용\n",
    "oh_encoder = OneHotEncoder()\n",
    "oh_encoder.fit(items)\n",
    "oh_labels = oh_encoder.transform(items)\n",
    "\n",
    "# OneHotEncoder로 변환한 결과는 희소행렬이므로 toarray()를 이용해 밀집 행렬로 변환.\n",
    "print('원-핫 인코딩 데이터')\n",
    "print(oh_labels.toarray())\n",
    "print('원-핫 인코딩 데이터 차원')\n",
    "print(oh_labels.shape)"
   ],
   "metadata": {
    "collapsed": false,
    "pycharm": {
     "name": "#%%\n"
    }
   }
  },
  {
   "cell_type": "code",
   "execution_count": 6,
   "outputs": [
    {
     "data": {
      "text/plain": "<8x6 sparse matrix of type '<class 'numpy.float64'>'\n\twith 8 stored elements in Compressed Sparse Row format>"
     },
     "execution_count": 6,
     "metadata": {},
     "output_type": "execute_result"
    }
   ],
   "source": [
    "oh_labels"
   ],
   "metadata": {
    "collapsed": false,
    "pycharm": {
     "name": "#%%\n"
    }
   }
  },
  {
   "cell_type": "code",
   "execution_count": 8,
   "outputs": [
    {
     "data": {
      "text/plain": "   items_TV  items_냉장고  items_믹서  items_선풍기  items_전자레인지  items_컴퓨터\n0         1          0         0          0            0          0\n1         0          1         0          0            0          0\n2         0          0         0          0            1          0\n3         0          0         0          0            0          1\n4         0          0         0          1            0          0\n5         0          0         0          1            0          0\n6         0          0         1          0            0          0\n7         0          0         1          0            0          0",
      "text/html": "<div>\n<style scoped>\n    .dataframe tbody tr th:only-of-type {\n        vertical-align: middle;\n    }\n\n    .dataframe tbody tr th {\n        vertical-align: top;\n    }\n\n    .dataframe thead th {\n        text-align: right;\n    }\n</style>\n<table border=\"1\" class=\"dataframe\">\n  <thead>\n    <tr style=\"text-align: right;\">\n      <th></th>\n      <th>items_TV</th>\n      <th>items_냉장고</th>\n      <th>items_믹서</th>\n      <th>items_선풍기</th>\n      <th>items_전자레인지</th>\n      <th>items_컴퓨터</th>\n    </tr>\n  </thead>\n  <tbody>\n    <tr>\n      <th>0</th>\n      <td>1</td>\n      <td>0</td>\n      <td>0</td>\n      <td>0</td>\n      <td>0</td>\n      <td>0</td>\n    </tr>\n    <tr>\n      <th>1</th>\n      <td>0</td>\n      <td>1</td>\n      <td>0</td>\n      <td>0</td>\n      <td>0</td>\n      <td>0</td>\n    </tr>\n    <tr>\n      <th>2</th>\n      <td>0</td>\n      <td>0</td>\n      <td>0</td>\n      <td>0</td>\n      <td>1</td>\n      <td>0</td>\n    </tr>\n    <tr>\n      <th>3</th>\n      <td>0</td>\n      <td>0</td>\n      <td>0</td>\n      <td>0</td>\n      <td>0</td>\n      <td>1</td>\n    </tr>\n    <tr>\n      <th>4</th>\n      <td>0</td>\n      <td>0</td>\n      <td>0</td>\n      <td>1</td>\n      <td>0</td>\n      <td>0</td>\n    </tr>\n    <tr>\n      <th>5</th>\n      <td>0</td>\n      <td>0</td>\n      <td>0</td>\n      <td>1</td>\n      <td>0</td>\n      <td>0</td>\n    </tr>\n    <tr>\n      <th>6</th>\n      <td>0</td>\n      <td>0</td>\n      <td>1</td>\n      <td>0</td>\n      <td>0</td>\n      <td>0</td>\n    </tr>\n    <tr>\n      <th>7</th>\n      <td>0</td>\n      <td>0</td>\n      <td>1</td>\n      <td>0</td>\n      <td>0</td>\n      <td>0</td>\n    </tr>\n  </tbody>\n</table>\n</div>"
     },
     "execution_count": 8,
     "metadata": {},
     "output_type": "execute_result"
    }
   ],
   "source": [
    "import pandas as pd\n",
    "\n",
    "df = pd.DataFrame({'items' : ['TV', '냉장고', '전자레인지', '컴퓨터', '선풍기', '선풍기', '믹서', '믹서']})\n",
    "pd.get_dummies(df)"
   ],
   "metadata": {
    "collapsed": false,
    "pycharm": {
     "name": "#%%\n"
    }
   }
  },
  {
   "cell_type": "code",
   "execution_count": 10,
   "outputs": [
    {
     "data": {
      "text/plain": "0.0"
     },
     "execution_count": 10,
     "metadata": {},
     "output_type": "execute_result"
    }
   ],
   "source": [
    "0/18"
   ],
   "metadata": {
    "collapsed": false,
    "pycharm": {
     "name": "#%%\n"
    }
   }
  },
  {
   "cell_type": "markdown",
   "source": [
    "# 피처 스케일링과 정규화\n",
    "## StandardScaler"
   ],
   "metadata": {
    "collapsed": false,
    "pycharm": {
     "name": "#%% md\n"
    }
   }
  },
  {
   "cell_type": "code",
   "execution_count": 6,
   "outputs": [
    {
     "name": "stdout",
     "output_type": "stream",
     "text": [
      "feature들의 평균 값\n",
      "sepal length (cm)    5.843333\n",
      "sepal width (cm)     3.057333\n",
      "petal length (cm)    3.758000\n",
      "petal width (cm)     1.199333\n",
      "dtype: float64\n",
      "\n",
      "feature들의 분산 값\n",
      "sepal length (cm)    0.685694\n",
      "sepal width (cm)     0.189979\n",
      "petal length (cm)    3.116278\n",
      "petal width (cm)     0.581006\n",
      "dtype: float64\n"
     ]
    }
   ],
   "source": [
    "from sklearn.datasets import load_iris\n",
    "import pandas as pd\n",
    "\n",
    "# 붓꽃 데이터 세트를 로딩하고 DataFrame으로 변환\n",
    "iris = load_iris()\n",
    "iris_data = iris.data\n",
    "iris_df = pd.DataFrame(data=iris_data, columns= iris.feature_names)\n",
    "\n",
    "print('feature들의 평균 값')\n",
    "print(iris_df.mean())\n",
    "print('\\nfeature들의 분산 값')\n",
    "print(iris_df.var())"
   ],
   "metadata": {
    "collapsed": false,
    "pycharm": {
     "name": "#%%\n"
    }
   }
  },
  {
   "cell_type": "code",
   "execution_count": 7,
   "outputs": [
    {
     "name": "stdout",
     "output_type": "stream",
     "text": [
      "feature들의 평균 값\n",
      "sepal length (cm)   -1.690315e-15\n",
      "sepal width (cm)    -1.842970e-15\n",
      "petal length (cm)   -1.698641e-15\n",
      "petal width (cm)    -1.409243e-15\n",
      "dtype: float64\n",
      "\n",
      "feature들의 분산 값\n",
      "sepal length (cm)    1.006711\n",
      "sepal width (cm)     1.006711\n",
      "petal length (cm)    1.006711\n",
      "petal width (cm)     1.006711\n",
      "dtype: float64\n"
     ]
    }
   ],
   "source": [
    "from sklearn.preprocessing import StandardScaler\n",
    "\n",
    "# StandartScaler 객체 생성\n",
    "scaler = StandardScaler()\n",
    "scaler.fit(iris_df)\n",
    "iris_scaled = scaler.transform(iris_df)\n",
    "\n",
    "# transform()시 스케일 변환된 데이터 세트가 Numpy ndarray로 반환돼 이를 DataFrame으로 변환\n",
    "iris_df_scaled = pd.DataFrame(iris_scaled, columns=iris.feature_names)\n",
    "print('feature들의 평균 값')\n",
    "print(iris_df_scaled.mean())\n",
    "print('\\nfeature들의 분산 값')\n",
    "print(iris_df_scaled.var())"
   ],
   "metadata": {
    "collapsed": false,
    "pycharm": {
     "name": "#%%\n"
    }
   }
  },
  {
   "cell_type": "markdown",
   "source": [
    "## MinMaxScaler"
   ],
   "metadata": {
    "collapsed": false,
    "pycharm": {
     "name": "#%% md\n"
    }
   }
  },
  {
   "cell_type": "code",
   "execution_count": 8,
   "outputs": [
    {
     "name": "stdout",
     "output_type": "stream",
     "text": [
      "feature들의 최솟값\n",
      "sepal length (cm)    0.0\n",
      "sepal width (cm)     0.0\n",
      "petal length (cm)    0.0\n",
      "petal width (cm)     0.0\n",
      "dtype: float64\n",
      "feature들의 최댓값\n",
      "sepal length (cm)    1.0\n",
      "sepal width (cm)     1.0\n",
      "petal length (cm)    1.0\n",
      "petal width (cm)     1.0\n",
      "dtype: float64\n"
     ]
    }
   ],
   "source": [
    "from sklearn.preprocessing import MinMaxScaler\n",
    "\n",
    "# MinMaxScaler 객체 생성\n",
    "scaler = MinMaxScaler()\n",
    "# MinMaxScaler로 데이터 세트 변환. fit()과 transform() 호출.\n",
    "scaler.fit(iris_df)\n",
    "iris_scaled = scaler.transform(iris_df)\n",
    "\n",
    "# transfrom() 시 스케일 변환된 데이터 세트가 NumPy ndarray로 반환돼 이를 DataFrame으로 변환\n",
    "iris_df_scaled = pd.DataFrame(data=iris_scaled, columns=iris.feature_names)\n",
    "\n",
    "print('feature들의 최솟값')\n",
    "print(iris_df_scaled.min())\n",
    "print('feature들의 최댓값')\n",
    "print(iris_df_scaled.max())"
   ],
   "metadata": {
    "collapsed": false,
    "pycharm": {
     "name": "#%%\n"
    }
   }
  },
  {
   "cell_type": "code",
   "execution_count": null,
   "outputs": [],
   "source": [
    "from skleanr"
   ],
   "metadata": {
    "collapsed": false,
    "pycharm": {
     "name": "#%%\n"
    }
   }
  }
 ],
 "metadata": {
  "kernelspec": {
   "display_name": "Python 3",
   "language": "python",
   "name": "python3"
  },
  "language_info": {
   "codemirror_mode": {
    "name": "ipython",
    "version": 2
   },
   "file_extension": ".py",
   "mimetype": "text/x-python",
   "name": "python",
   "nbconvert_exporter": "python",
   "pygments_lexer": "ipython2",
   "version": "2.7.6"
  }
 },
 "nbformat": 4,
 "nbformat_minor": 0
}