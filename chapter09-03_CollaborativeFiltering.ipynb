{
 "cells": [
  {
   "cell_type": "code",
   "execution_count": 1,
   "metadata": {
    "collapsed": true,
    "pycharm": {
     "name": "#%%\n"
    }
   },
   "outputs": [
    {
     "name": "stdout",
     "output_type": "stream",
     "text": [
      "(9742, 3)\n",
      "(100836, 4)\n"
     ]
    }
   ],
   "source": [
    "import pandas as pd\n",
    "import numpy as np\n",
    "\n",
    "movies = pd.read_csv('data/ml-latest-small/movies.csv')\n",
    "ratings = pd.read_csv('data/ml-latest-small/ratings.csv')\n",
    "print(movies.shape)\n",
    "print(ratings.shape)"
   ]
  },
  {
   "cell_type": "code",
   "execution_count": 6,
   "outputs": [
    {
     "data": {
      "text/plain": "movieId  1       2       3       4       5       6       7       8       \\\nuserId                                                                    \n1           4.0     NaN     4.0     NaN     NaN     4.0     NaN     NaN   \n2           NaN     NaN     NaN     NaN     NaN     NaN     NaN     NaN   \n3           NaN     NaN     NaN     NaN     NaN     NaN     NaN     NaN   \n4           NaN     NaN     NaN     NaN     NaN     NaN     NaN     NaN   \n5           4.0     NaN     NaN     NaN     NaN     NaN     NaN     NaN   \n\nmovieId  9       10      ...  193565  193567  193571  193573  193579  193581  \\\nuserId                   ...                                                   \n1           NaN     NaN  ...     NaN     NaN     NaN     NaN     NaN     NaN   \n2           NaN     NaN  ...     NaN     NaN     NaN     NaN     NaN     NaN   \n3           NaN     NaN  ...     NaN     NaN     NaN     NaN     NaN     NaN   \n4           NaN     NaN  ...     NaN     NaN     NaN     NaN     NaN     NaN   \n5           NaN     NaN  ...     NaN     NaN     NaN     NaN     NaN     NaN   \n\nmovieId  193583  193585  193587  193609  \nuserId                                   \n1           NaN     NaN     NaN     NaN  \n2           NaN     NaN     NaN     NaN  \n3           NaN     NaN     NaN     NaN  \n4           NaN     NaN     NaN     NaN  \n5           NaN     NaN     NaN     NaN  \n\n[5 rows x 9724 columns]",
      "text/html": "<div>\n<style scoped>\n    .dataframe tbody tr th:only-of-type {\n        vertical-align: middle;\n    }\n\n    .dataframe tbody tr th {\n        vertical-align: top;\n    }\n\n    .dataframe thead th {\n        text-align: right;\n    }\n</style>\n<table border=\"1\" class=\"dataframe\">\n  <thead>\n    <tr style=\"text-align: right;\">\n      <th>movieId</th>\n      <th>1</th>\n      <th>2</th>\n      <th>3</th>\n      <th>4</th>\n      <th>5</th>\n      <th>6</th>\n      <th>7</th>\n      <th>8</th>\n      <th>9</th>\n      <th>10</th>\n      <th>...</th>\n      <th>193565</th>\n      <th>193567</th>\n      <th>193571</th>\n      <th>193573</th>\n      <th>193579</th>\n      <th>193581</th>\n      <th>193583</th>\n      <th>193585</th>\n      <th>193587</th>\n      <th>193609</th>\n    </tr>\n    <tr>\n      <th>userId</th>\n      <th></th>\n      <th></th>\n      <th></th>\n      <th></th>\n      <th></th>\n      <th></th>\n      <th></th>\n      <th></th>\n      <th></th>\n      <th></th>\n      <th></th>\n      <th></th>\n      <th></th>\n      <th></th>\n      <th></th>\n      <th></th>\n      <th></th>\n      <th></th>\n      <th></th>\n      <th></th>\n      <th></th>\n    </tr>\n  </thead>\n  <tbody>\n    <tr>\n      <th>1</th>\n      <td>4.0</td>\n      <td>NaN</td>\n      <td>4.0</td>\n      <td>NaN</td>\n      <td>NaN</td>\n      <td>4.0</td>\n      <td>NaN</td>\n      <td>NaN</td>\n      <td>NaN</td>\n      <td>NaN</td>\n      <td>...</td>\n      <td>NaN</td>\n      <td>NaN</td>\n      <td>NaN</td>\n      <td>NaN</td>\n      <td>NaN</td>\n      <td>NaN</td>\n      <td>NaN</td>\n      <td>NaN</td>\n      <td>NaN</td>\n      <td>NaN</td>\n    </tr>\n    <tr>\n      <th>2</th>\n      <td>NaN</td>\n      <td>NaN</td>\n      <td>NaN</td>\n      <td>NaN</td>\n      <td>NaN</td>\n      <td>NaN</td>\n      <td>NaN</td>\n      <td>NaN</td>\n      <td>NaN</td>\n      <td>NaN</td>\n      <td>...</td>\n      <td>NaN</td>\n      <td>NaN</td>\n      <td>NaN</td>\n      <td>NaN</td>\n      <td>NaN</td>\n      <td>NaN</td>\n      <td>NaN</td>\n      <td>NaN</td>\n      <td>NaN</td>\n      <td>NaN</td>\n    </tr>\n    <tr>\n      <th>3</th>\n      <td>NaN</td>\n      <td>NaN</td>\n      <td>NaN</td>\n      <td>NaN</td>\n      <td>NaN</td>\n      <td>NaN</td>\n      <td>NaN</td>\n      <td>NaN</td>\n      <td>NaN</td>\n      <td>NaN</td>\n      <td>...</td>\n      <td>NaN</td>\n      <td>NaN</td>\n      <td>NaN</td>\n      <td>NaN</td>\n      <td>NaN</td>\n      <td>NaN</td>\n      <td>NaN</td>\n      <td>NaN</td>\n      <td>NaN</td>\n      <td>NaN</td>\n    </tr>\n    <tr>\n      <th>4</th>\n      <td>NaN</td>\n      <td>NaN</td>\n      <td>NaN</td>\n      <td>NaN</td>\n      <td>NaN</td>\n      <td>NaN</td>\n      <td>NaN</td>\n      <td>NaN</td>\n      <td>NaN</td>\n      <td>NaN</td>\n      <td>...</td>\n      <td>NaN</td>\n      <td>NaN</td>\n      <td>NaN</td>\n      <td>NaN</td>\n      <td>NaN</td>\n      <td>NaN</td>\n      <td>NaN</td>\n      <td>NaN</td>\n      <td>NaN</td>\n      <td>NaN</td>\n    </tr>\n    <tr>\n      <th>5</th>\n      <td>4.0</td>\n      <td>NaN</td>\n      <td>NaN</td>\n      <td>NaN</td>\n      <td>NaN</td>\n      <td>NaN</td>\n      <td>NaN</td>\n      <td>NaN</td>\n      <td>NaN</td>\n      <td>NaN</td>\n      <td>...</td>\n      <td>NaN</td>\n      <td>NaN</td>\n      <td>NaN</td>\n      <td>NaN</td>\n      <td>NaN</td>\n      <td>NaN</td>\n      <td>NaN</td>\n      <td>NaN</td>\n      <td>NaN</td>\n      <td>NaN</td>\n    </tr>\n  </tbody>\n</table>\n<p>5 rows × 9724 columns</p>\n</div>"
     },
     "execution_count": 6,
     "metadata": {},
     "output_type": "execute_result"
    }
   ],
   "source": [
    "ratings = ratings[['userId', 'movieId', 'rating']]\n",
    "ratings_matrix = ratings.pivot_table('rating', index='userId', columns='movieId')\n",
    "ratings_matrix.head()"
   ],
   "metadata": {
    "collapsed": false,
    "pycharm": {
     "name": "#%%\n"
    }
   }
  },
  {
   "cell_type": "code",
   "execution_count": 7,
   "outputs": [
    {
     "data": {
      "text/plain": "title   '71 (2014)  'Hellboy': The Seeds of Creation (2004)  \\\nuserId                                                        \n1              0.0                                      0.0   \n2              0.0                                      0.0   \n3              0.0                                      0.0   \n4              0.0                                      0.0   \n5              0.0                                      0.0   \n\ntitle   'Round Midnight (1986)  'Salem's Lot (2004)  \\\nuserId                                                \n1                          0.0                  0.0   \n2                          0.0                  0.0   \n3                          0.0                  0.0   \n4                          0.0                  0.0   \n5                          0.0                  0.0   \n\ntitle   'Til There Was You (1997)  'Tis the Season for Love (2015)  \\\nuserId                                                               \n1                             0.0                              0.0   \n2                             0.0                              0.0   \n3                             0.0                              0.0   \n4                             0.0                              0.0   \n5                             0.0                              0.0   \n\ntitle   'burbs, The (1989)  'night Mother (1986)  (500) Days of Summer (2009)  \\\nuserId                                                                          \n1                      0.0                   0.0                          0.0   \n2                      0.0                   0.0                          0.0   \n3                      0.0                   0.0                          0.0   \n4                      0.0                   0.0                          0.0   \n5                      0.0                   0.0                          0.0   \n\ntitle   *batteries not included (1987)  ...  Zulu (2013)  [REC] (2007)  \\\nuserId                                  ...                              \n1                                  0.0  ...          0.0           0.0   \n2                                  0.0  ...          0.0           0.0   \n3                                  0.0  ...          0.0           0.0   \n4                                  0.0  ...          0.0           0.0   \n5                                  0.0  ...          0.0           0.0   \n\ntitle   [REC]² (2009)  [REC]³ 3 Génesis (2012)  \\\nuserId                                           \n1                 0.0                      0.0   \n2                 0.0                      0.0   \n3                 0.0                      0.0   \n4                 0.0                      0.0   \n5                 0.0                      0.0   \n\ntitle   anohana: The Flower We Saw That Day - The Movie (2013)  \\\nuserId                                                           \n1                                                     0.0        \n2                                                     0.0        \n3                                                     0.0        \n4                                                     0.0        \n5                                                     0.0        \n\ntitle   eXistenZ (1999)  xXx (2002)  xXx: State of the Union (2005)  \\\nuserId                                                                \n1                   0.0         0.0                             0.0   \n2                   0.0         0.0                             0.0   \n3                   0.0         0.0                             0.0   \n4                   0.0         0.0                             0.0   \n5                   0.0         0.0                             0.0   \n\ntitle   ¡Three Amigos! (1986)  À nous la liberté (Freedom for Us) (1931)  \nuserId                                                                    \n1                         4.0                                        0.0  \n2                         0.0                                        0.0  \n3                         0.0                                        0.0  \n4                         0.0                                        0.0  \n5                         0.0                                        0.0  \n\n[5 rows x 9719 columns]",
      "text/html": "<div>\n<style scoped>\n    .dataframe tbody tr th:only-of-type {\n        vertical-align: middle;\n    }\n\n    .dataframe tbody tr th {\n        vertical-align: top;\n    }\n\n    .dataframe thead th {\n        text-align: right;\n    }\n</style>\n<table border=\"1\" class=\"dataframe\">\n  <thead>\n    <tr style=\"text-align: right;\">\n      <th>title</th>\n      <th>'71 (2014)</th>\n      <th>'Hellboy': The Seeds of Creation (2004)</th>\n      <th>'Round Midnight (1986)</th>\n      <th>'Salem's Lot (2004)</th>\n      <th>'Til There Was You (1997)</th>\n      <th>'Tis the Season for Love (2015)</th>\n      <th>'burbs, The (1989)</th>\n      <th>'night Mother (1986)</th>\n      <th>(500) Days of Summer (2009)</th>\n      <th>*batteries not included (1987)</th>\n      <th>...</th>\n      <th>Zulu (2013)</th>\n      <th>[REC] (2007)</th>\n      <th>[REC]² (2009)</th>\n      <th>[REC]³ 3 Génesis (2012)</th>\n      <th>anohana: The Flower We Saw That Day - The Movie (2013)</th>\n      <th>eXistenZ (1999)</th>\n      <th>xXx (2002)</th>\n      <th>xXx: State of the Union (2005)</th>\n      <th>¡Three Amigos! (1986)</th>\n      <th>À nous la liberté (Freedom for Us) (1931)</th>\n    </tr>\n    <tr>\n      <th>userId</th>\n      <th></th>\n      <th></th>\n      <th></th>\n      <th></th>\n      <th></th>\n      <th></th>\n      <th></th>\n      <th></th>\n      <th></th>\n      <th></th>\n      <th></th>\n      <th></th>\n      <th></th>\n      <th></th>\n      <th></th>\n      <th></th>\n      <th></th>\n      <th></th>\n      <th></th>\n      <th></th>\n      <th></th>\n    </tr>\n  </thead>\n  <tbody>\n    <tr>\n      <th>1</th>\n      <td>0.0</td>\n      <td>0.0</td>\n      <td>0.0</td>\n      <td>0.0</td>\n      <td>0.0</td>\n      <td>0.0</td>\n      <td>0.0</td>\n      <td>0.0</td>\n      <td>0.0</td>\n      <td>0.0</td>\n      <td>...</td>\n      <td>0.0</td>\n      <td>0.0</td>\n      <td>0.0</td>\n      <td>0.0</td>\n      <td>0.0</td>\n      <td>0.0</td>\n      <td>0.0</td>\n      <td>0.0</td>\n      <td>4.0</td>\n      <td>0.0</td>\n    </tr>\n    <tr>\n      <th>2</th>\n      <td>0.0</td>\n      <td>0.0</td>\n      <td>0.0</td>\n      <td>0.0</td>\n      <td>0.0</td>\n      <td>0.0</td>\n      <td>0.0</td>\n      <td>0.0</td>\n      <td>0.0</td>\n      <td>0.0</td>\n      <td>...</td>\n      <td>0.0</td>\n      <td>0.0</td>\n      <td>0.0</td>\n      <td>0.0</td>\n      <td>0.0</td>\n      <td>0.0</td>\n      <td>0.0</td>\n      <td>0.0</td>\n      <td>0.0</td>\n      <td>0.0</td>\n    </tr>\n    <tr>\n      <th>3</th>\n      <td>0.0</td>\n      <td>0.0</td>\n      <td>0.0</td>\n      <td>0.0</td>\n      <td>0.0</td>\n      <td>0.0</td>\n      <td>0.0</td>\n      <td>0.0</td>\n      <td>0.0</td>\n      <td>0.0</td>\n      <td>...</td>\n      <td>0.0</td>\n      <td>0.0</td>\n      <td>0.0</td>\n      <td>0.0</td>\n      <td>0.0</td>\n      <td>0.0</td>\n      <td>0.0</td>\n      <td>0.0</td>\n      <td>0.0</td>\n      <td>0.0</td>\n    </tr>\n    <tr>\n      <th>4</th>\n      <td>0.0</td>\n      <td>0.0</td>\n      <td>0.0</td>\n      <td>0.0</td>\n      <td>0.0</td>\n      <td>0.0</td>\n      <td>0.0</td>\n      <td>0.0</td>\n      <td>0.0</td>\n      <td>0.0</td>\n      <td>...</td>\n      <td>0.0</td>\n      <td>0.0</td>\n      <td>0.0</td>\n      <td>0.0</td>\n      <td>0.0</td>\n      <td>0.0</td>\n      <td>0.0</td>\n      <td>0.0</td>\n      <td>0.0</td>\n      <td>0.0</td>\n    </tr>\n    <tr>\n      <th>5</th>\n      <td>0.0</td>\n      <td>0.0</td>\n      <td>0.0</td>\n      <td>0.0</td>\n      <td>0.0</td>\n      <td>0.0</td>\n      <td>0.0</td>\n      <td>0.0</td>\n      <td>0.0</td>\n      <td>0.0</td>\n      <td>...</td>\n      <td>0.0</td>\n      <td>0.0</td>\n      <td>0.0</td>\n      <td>0.0</td>\n      <td>0.0</td>\n      <td>0.0</td>\n      <td>0.0</td>\n      <td>0.0</td>\n      <td>0.0</td>\n      <td>0.0</td>\n    </tr>\n  </tbody>\n</table>\n<p>5 rows × 9719 columns</p>\n</div>"
     },
     "execution_count": 7,
     "metadata": {},
     "output_type": "execute_result"
    }
   ],
   "source": [
    "ratings_movies = pd.merge(ratings, movies, on='movieId')\n",
    "\n",
    "ratings_matrix = ratings_movies.pivot_table('rating', index='userId', columns='title')\n",
    "\n",
    "ratings_matrix = ratings_matrix.fillna(0)\n",
    "ratings_matrix.head()"
   ],
   "metadata": {
    "collapsed": false,
    "pycharm": {
     "name": "#%%\n"
    }
   }
  },
  {
   "cell_type": "code",
   "execution_count": 8,
   "outputs": [
    {
     "data": {
      "text/plain": "        userId  movieId  rating                             title  \\\n0            1        1     4.0                  Toy Story (1995)   \n1            5        1     4.0                  Toy Story (1995)   \n2            7        1     4.5                  Toy Story (1995)   \n3           15        1     2.5                  Toy Story (1995)   \n4           17        1     4.5                  Toy Story (1995)   \n...        ...      ...     ...                               ...   \n100831     610   160341     2.5                  Bloodmoon (1997)   \n100832     610   160527     4.5  Sympathy for the Underdog (1971)   \n100833     610   160836     3.0                     Hazard (2005)   \n100834     610   163937     3.5                Blair Witch (2016)   \n100835     610   163981     3.5                         31 (2016)   \n\n                                             genres  \n0       Adventure|Animation|Children|Comedy|Fantasy  \n1       Adventure|Animation|Children|Comedy|Fantasy  \n2       Adventure|Animation|Children|Comedy|Fantasy  \n3       Adventure|Animation|Children|Comedy|Fantasy  \n4       Adventure|Animation|Children|Comedy|Fantasy  \n...                                             ...  \n100831                              Action|Thriller  \n100832                           Action|Crime|Drama  \n100833                        Action|Drama|Thriller  \n100834                              Horror|Thriller  \n100835                                       Horror  \n\n[100836 rows x 5 columns]",
      "text/html": "<div>\n<style scoped>\n    .dataframe tbody tr th:only-of-type {\n        vertical-align: middle;\n    }\n\n    .dataframe tbody tr th {\n        vertical-align: top;\n    }\n\n    .dataframe thead th {\n        text-align: right;\n    }\n</style>\n<table border=\"1\" class=\"dataframe\">\n  <thead>\n    <tr style=\"text-align: right;\">\n      <th></th>\n      <th>userId</th>\n      <th>movieId</th>\n      <th>rating</th>\n      <th>title</th>\n      <th>genres</th>\n    </tr>\n  </thead>\n  <tbody>\n    <tr>\n      <th>0</th>\n      <td>1</td>\n      <td>1</td>\n      <td>4.0</td>\n      <td>Toy Story (1995)</td>\n      <td>Adventure|Animation|Children|Comedy|Fantasy</td>\n    </tr>\n    <tr>\n      <th>1</th>\n      <td>5</td>\n      <td>1</td>\n      <td>4.0</td>\n      <td>Toy Story (1995)</td>\n      <td>Adventure|Animation|Children|Comedy|Fantasy</td>\n    </tr>\n    <tr>\n      <th>2</th>\n      <td>7</td>\n      <td>1</td>\n      <td>4.5</td>\n      <td>Toy Story (1995)</td>\n      <td>Adventure|Animation|Children|Comedy|Fantasy</td>\n    </tr>\n    <tr>\n      <th>3</th>\n      <td>15</td>\n      <td>1</td>\n      <td>2.5</td>\n      <td>Toy Story (1995)</td>\n      <td>Adventure|Animation|Children|Comedy|Fantasy</td>\n    </tr>\n    <tr>\n      <th>4</th>\n      <td>17</td>\n      <td>1</td>\n      <td>4.5</td>\n      <td>Toy Story (1995)</td>\n      <td>Adventure|Animation|Children|Comedy|Fantasy</td>\n    </tr>\n    <tr>\n      <th>...</th>\n      <td>...</td>\n      <td>...</td>\n      <td>...</td>\n      <td>...</td>\n      <td>...</td>\n    </tr>\n    <tr>\n      <th>100831</th>\n      <td>610</td>\n      <td>160341</td>\n      <td>2.5</td>\n      <td>Bloodmoon (1997)</td>\n      <td>Action|Thriller</td>\n    </tr>\n    <tr>\n      <th>100832</th>\n      <td>610</td>\n      <td>160527</td>\n      <td>4.5</td>\n      <td>Sympathy for the Underdog (1971)</td>\n      <td>Action|Crime|Drama</td>\n    </tr>\n    <tr>\n      <th>100833</th>\n      <td>610</td>\n      <td>160836</td>\n      <td>3.0</td>\n      <td>Hazard (2005)</td>\n      <td>Action|Drama|Thriller</td>\n    </tr>\n    <tr>\n      <th>100834</th>\n      <td>610</td>\n      <td>163937</td>\n      <td>3.5</td>\n      <td>Blair Witch (2016)</td>\n      <td>Horror|Thriller</td>\n    </tr>\n    <tr>\n      <th>100835</th>\n      <td>610</td>\n      <td>163981</td>\n      <td>3.5</td>\n      <td>31 (2016)</td>\n      <td>Horror</td>\n    </tr>\n  </tbody>\n</table>\n<p>100836 rows × 5 columns</p>\n</div>"
     },
     "execution_count": 8,
     "metadata": {},
     "output_type": "execute_result"
    }
   ],
   "source": [
    "ratings_movies"
   ],
   "metadata": {
    "collapsed": false,
    "pycharm": {
     "name": "#%%\n"
    }
   }
  },
  {
   "cell_type": "markdown",
   "source": [
    "# 영화 간 유사도 산출"
   ],
   "metadata": {
    "collapsed": false,
    "pycharm": {
     "name": "#%% md\n"
    }
   }
  },
  {
   "cell_type": "code",
   "execution_count": 9,
   "outputs": [
    {
     "data": {
      "text/plain": "userId                                   1    2    3    4    5    6    7    \\\ntitle                                                                        \n'71 (2014)                               0.0  0.0  0.0  0.0  0.0  0.0  0.0   \n'Hellboy': The Seeds of Creation (2004)  0.0  0.0  0.0  0.0  0.0  0.0  0.0   \n'Round Midnight (1986)                   0.0  0.0  0.0  0.0  0.0  0.0  0.0   \n\nuserId                                   8    9    10   ...  601  602  603  \\\ntitle                                                   ...                  \n'71 (2014)                               0.0  0.0  0.0  ...  0.0  0.0  0.0   \n'Hellboy': The Seeds of Creation (2004)  0.0  0.0  0.0  ...  0.0  0.0  0.0   \n'Round Midnight (1986)                   0.0  0.0  0.0  ...  0.0  0.0  0.0   \n\nuserId                                   604  605  606  607  608  609  610  \ntitle                                                                       \n'71 (2014)                               0.0  0.0  0.0  0.0  0.0  0.0  4.0  \n'Hellboy': The Seeds of Creation (2004)  0.0  0.0  0.0  0.0  0.0  0.0  0.0  \n'Round Midnight (1986)                   0.0  0.0  0.0  0.0  0.0  0.0  0.0  \n\n[3 rows x 610 columns]",
      "text/html": "<div>\n<style scoped>\n    .dataframe tbody tr th:only-of-type {\n        vertical-align: middle;\n    }\n\n    .dataframe tbody tr th {\n        vertical-align: top;\n    }\n\n    .dataframe thead th {\n        text-align: right;\n    }\n</style>\n<table border=\"1\" class=\"dataframe\">\n  <thead>\n    <tr style=\"text-align: right;\">\n      <th>userId</th>\n      <th>1</th>\n      <th>2</th>\n      <th>3</th>\n      <th>4</th>\n      <th>5</th>\n      <th>6</th>\n      <th>7</th>\n      <th>8</th>\n      <th>9</th>\n      <th>10</th>\n      <th>...</th>\n      <th>601</th>\n      <th>602</th>\n      <th>603</th>\n      <th>604</th>\n      <th>605</th>\n      <th>606</th>\n      <th>607</th>\n      <th>608</th>\n      <th>609</th>\n      <th>610</th>\n    </tr>\n    <tr>\n      <th>title</th>\n      <th></th>\n      <th></th>\n      <th></th>\n      <th></th>\n      <th></th>\n      <th></th>\n      <th></th>\n      <th></th>\n      <th></th>\n      <th></th>\n      <th></th>\n      <th></th>\n      <th></th>\n      <th></th>\n      <th></th>\n      <th></th>\n      <th></th>\n      <th></th>\n      <th></th>\n      <th></th>\n      <th></th>\n    </tr>\n  </thead>\n  <tbody>\n    <tr>\n      <th>'71 (2014)</th>\n      <td>0.0</td>\n      <td>0.0</td>\n      <td>0.0</td>\n      <td>0.0</td>\n      <td>0.0</td>\n      <td>0.0</td>\n      <td>0.0</td>\n      <td>0.0</td>\n      <td>0.0</td>\n      <td>0.0</td>\n      <td>...</td>\n      <td>0.0</td>\n      <td>0.0</td>\n      <td>0.0</td>\n      <td>0.0</td>\n      <td>0.0</td>\n      <td>0.0</td>\n      <td>0.0</td>\n      <td>0.0</td>\n      <td>0.0</td>\n      <td>4.0</td>\n    </tr>\n    <tr>\n      <th>'Hellboy': The Seeds of Creation (2004)</th>\n      <td>0.0</td>\n      <td>0.0</td>\n      <td>0.0</td>\n      <td>0.0</td>\n      <td>0.0</td>\n      <td>0.0</td>\n      <td>0.0</td>\n      <td>0.0</td>\n      <td>0.0</td>\n      <td>0.0</td>\n      <td>...</td>\n      <td>0.0</td>\n      <td>0.0</td>\n      <td>0.0</td>\n      <td>0.0</td>\n      <td>0.0</td>\n      <td>0.0</td>\n      <td>0.0</td>\n      <td>0.0</td>\n      <td>0.0</td>\n      <td>0.0</td>\n    </tr>\n    <tr>\n      <th>'Round Midnight (1986)</th>\n      <td>0.0</td>\n      <td>0.0</td>\n      <td>0.0</td>\n      <td>0.0</td>\n      <td>0.0</td>\n      <td>0.0</td>\n      <td>0.0</td>\n      <td>0.0</td>\n      <td>0.0</td>\n      <td>0.0</td>\n      <td>...</td>\n      <td>0.0</td>\n      <td>0.0</td>\n      <td>0.0</td>\n      <td>0.0</td>\n      <td>0.0</td>\n      <td>0.0</td>\n      <td>0.0</td>\n      <td>0.0</td>\n      <td>0.0</td>\n      <td>0.0</td>\n    </tr>\n  </tbody>\n</table>\n<p>3 rows × 610 columns</p>\n</div>"
     },
     "execution_count": 9,
     "metadata": {},
     "output_type": "execute_result"
    }
   ],
   "source": [
    "ratings_matrix_T = ratings_matrix.transpose()\n",
    "ratings_matrix_T.head(3)"
   ],
   "metadata": {
    "collapsed": false,
    "pycharm": {
     "name": "#%%\n"
    }
   }
  },
  {
   "cell_type": "code",
   "execution_count": 11,
   "outputs": [
    {
     "name": "stdout",
     "output_type": "stream",
     "text": [
      "(9719, 9719)\n"
     ]
    },
    {
     "data": {
      "text/plain": "title                                    '71 (2014)  \\\ntitle                                                 \n'71 (2014)                                      1.0   \n'Hellboy': The Seeds of Creation (2004)         0.0   \n'Round Midnight (1986)                          0.0   \n'Salem's Lot (2004)                             0.0   \n'Til There Was You (1997)                       0.0   \n\ntitle                                    'Hellboy': The Seeds of Creation (2004)  \\\ntitle                                                                              \n'71 (2014)                                                              0.000000   \n'Hellboy': The Seeds of Creation (2004)                                 1.000000   \n'Round Midnight (1986)                                                  0.707107   \n'Salem's Lot (2004)                                                     0.000000   \n'Til There Was You (1997)                                               0.000000   \n\ntitle                                    'Round Midnight (1986)  \\\ntitle                                                             \n'71 (2014)                                             0.000000   \n'Hellboy': The Seeds of Creation (2004)                0.707107   \n'Round Midnight (1986)                                 1.000000   \n'Salem's Lot (2004)                                    0.000000   \n'Til There Was You (1997)                              0.000000   \n\ntitle                                    'Salem's Lot (2004)  \\\ntitle                                                          \n'71 (2014)                                          0.000000   \n'Hellboy': The Seeds of Creation (2004)             0.000000   \n'Round Midnight (1986)                              0.000000   \n'Salem's Lot (2004)                                 1.000000   \n'Til There Was You (1997)                           0.857493   \n\ntitle                                    'Til There Was You (1997)  \\\ntitle                                                                \n'71 (2014)                                                0.000000   \n'Hellboy': The Seeds of Creation (2004)                   0.000000   \n'Round Midnight (1986)                                    0.000000   \n'Salem's Lot (2004)                                       0.857493   \n'Til There Was You (1997)                                 1.000000   \n\ntitle                                    'Tis the Season for Love (2015)  \\\ntitle                                                                      \n'71 (2014)                                                           0.0   \n'Hellboy': The Seeds of Creation (2004)                              0.0   \n'Round Midnight (1986)                                               0.0   \n'Salem's Lot (2004)                                                  0.0   \n'Til There Was You (1997)                                            0.0   \n\ntitle                                    'burbs, The (1989)  \\\ntitle                                                         \n'71 (2014)                                         0.000000   \n'Hellboy': The Seeds of Creation (2004)            0.000000   \n'Round Midnight (1986)                             0.176777   \n'Salem's Lot (2004)                                0.000000   \n'Til There Was You (1997)                          0.000000   \n\ntitle                                    'night Mother (1986)  \\\ntitle                                                           \n'71 (2014)                                                0.0   \n'Hellboy': The Seeds of Creation (2004)                   0.0   \n'Round Midnight (1986)                                    0.0   \n'Salem's Lot (2004)                                       0.0   \n'Til There Was You (1997)                                 0.0   \n\ntitle                                    (500) Days of Summer (2009)  \\\ntitle                                                                  \n'71 (2014)                                                  0.141653   \n'Hellboy': The Seeds of Creation (2004)                     0.000000   \n'Round Midnight (1986)                                      0.000000   \n'Salem's Lot (2004)                                         0.000000   \n'Til There Was You (1997)                                   0.000000   \n\ntitle                                    *batteries not included (1987)  ...  \\\ntitle                                                                    ...   \n'71 (2014)                                                          0.0  ...   \n'Hellboy': The Seeds of Creation (2004)                             0.0  ...   \n'Round Midnight (1986)                                              0.0  ...   \n'Salem's Lot (2004)                                                 0.0  ...   \n'Til There Was You (1997)                                           0.0  ...   \n\ntitle                                    Zulu (2013)  [REC] (2007)  \\\ntitle                                                                \n'71 (2014)                                       0.0      0.342055   \n'Hellboy': The Seeds of Creation (2004)          0.0      0.000000   \n'Round Midnight (1986)                           0.0      0.000000   \n'Salem's Lot (2004)                              0.0      0.000000   \n'Til There Was You (1997)                        0.0      0.000000   \n\ntitle                                    [REC]² (2009)  \\\ntitle                                                    \n'71 (2014)                                    0.543305   \n'Hellboy': The Seeds of Creation (2004)       0.000000   \n'Round Midnight (1986)                        0.000000   \n'Salem's Lot (2004)                           0.000000   \n'Til There Was You (1997)                     0.000000   \n\ntitle                                    [REC]³ 3 Génesis (2012)  \\\ntitle                                                              \n'71 (2014)                                              0.707107   \n'Hellboy': The Seeds of Creation (2004)                 0.000000   \n'Round Midnight (1986)                                  0.000000   \n'Salem's Lot (2004)                                     0.000000   \n'Til There Was You (1997)                               0.000000   \n\ntitle                                    anohana: The Flower We Saw That Day - The Movie (2013)  \\\ntitle                                                                                             \n'71 (2014)                                                                             0.0        \n'Hellboy': The Seeds of Creation (2004)                                                0.0        \n'Round Midnight (1986)                                                                 0.0        \n'Salem's Lot (2004)                                                                    0.0        \n'Til There Was You (1997)                                                              0.0        \n\ntitle                                    eXistenZ (1999)  xXx (2002)  \\\ntitle                                                                  \n'71 (2014)                                           0.0    0.139431   \n'Hellboy': The Seeds of Creation (2004)              0.0    0.000000   \n'Round Midnight (1986)                               0.0    0.000000   \n'Salem's Lot (2004)                                  0.0    0.000000   \n'Til There Was You (1997)                            0.0    0.000000   \n\ntitle                                    xXx: State of the Union (2005)  \\\ntitle                                                                     \n'71 (2014)                                                     0.327327   \n'Hellboy': The Seeds of Creation (2004)                        0.000000   \n'Round Midnight (1986)                                         0.000000   \n'Salem's Lot (2004)                                            0.000000   \n'Til There Was You (1997)                                      0.000000   \n\ntitle                                    ¡Three Amigos! (1986)  \\\ntitle                                                            \n'71 (2014)                                                 0.0   \n'Hellboy': The Seeds of Creation (2004)                    0.0   \n'Round Midnight (1986)                                     0.0   \n'Salem's Lot (2004)                                        0.0   \n'Til There Was You (1997)                                  0.0   \n\ntitle                                    À nous la liberté (Freedom for Us) (1931)  \ntitle                                                                               \n'71 (2014)                                                                     0.0  \n'Hellboy': The Seeds of Creation (2004)                                        0.0  \n'Round Midnight (1986)                                                         0.0  \n'Salem's Lot (2004)                                                            0.0  \n'Til There Was You (1997)                                                      0.0  \n\n[5 rows x 9719 columns]",
      "text/html": "<div>\n<style scoped>\n    .dataframe tbody tr th:only-of-type {\n        vertical-align: middle;\n    }\n\n    .dataframe tbody tr th {\n        vertical-align: top;\n    }\n\n    .dataframe thead th {\n        text-align: right;\n    }\n</style>\n<table border=\"1\" class=\"dataframe\">\n  <thead>\n    <tr style=\"text-align: right;\">\n      <th>title</th>\n      <th>'71 (2014)</th>\n      <th>'Hellboy': The Seeds of Creation (2004)</th>\n      <th>'Round Midnight (1986)</th>\n      <th>'Salem's Lot (2004)</th>\n      <th>'Til There Was You (1997)</th>\n      <th>'Tis the Season for Love (2015)</th>\n      <th>'burbs, The (1989)</th>\n      <th>'night Mother (1986)</th>\n      <th>(500) Days of Summer (2009)</th>\n      <th>*batteries not included (1987)</th>\n      <th>...</th>\n      <th>Zulu (2013)</th>\n      <th>[REC] (2007)</th>\n      <th>[REC]² (2009)</th>\n      <th>[REC]³ 3 Génesis (2012)</th>\n      <th>anohana: The Flower We Saw That Day - The Movie (2013)</th>\n      <th>eXistenZ (1999)</th>\n      <th>xXx (2002)</th>\n      <th>xXx: State of the Union (2005)</th>\n      <th>¡Three Amigos! (1986)</th>\n      <th>À nous la liberté (Freedom for Us) (1931)</th>\n    </tr>\n    <tr>\n      <th>title</th>\n      <th></th>\n      <th></th>\n      <th></th>\n      <th></th>\n      <th></th>\n      <th></th>\n      <th></th>\n      <th></th>\n      <th></th>\n      <th></th>\n      <th></th>\n      <th></th>\n      <th></th>\n      <th></th>\n      <th></th>\n      <th></th>\n      <th></th>\n      <th></th>\n      <th></th>\n      <th></th>\n      <th></th>\n    </tr>\n  </thead>\n  <tbody>\n    <tr>\n      <th>'71 (2014)</th>\n      <td>1.0</td>\n      <td>0.000000</td>\n      <td>0.000000</td>\n      <td>0.000000</td>\n      <td>0.000000</td>\n      <td>0.0</td>\n      <td>0.000000</td>\n      <td>0.0</td>\n      <td>0.141653</td>\n      <td>0.0</td>\n      <td>...</td>\n      <td>0.0</td>\n      <td>0.342055</td>\n      <td>0.543305</td>\n      <td>0.707107</td>\n      <td>0.0</td>\n      <td>0.0</td>\n      <td>0.139431</td>\n      <td>0.327327</td>\n      <td>0.0</td>\n      <td>0.0</td>\n    </tr>\n    <tr>\n      <th>'Hellboy': The Seeds of Creation (2004)</th>\n      <td>0.0</td>\n      <td>1.000000</td>\n      <td>0.707107</td>\n      <td>0.000000</td>\n      <td>0.000000</td>\n      <td>0.0</td>\n      <td>0.000000</td>\n      <td>0.0</td>\n      <td>0.000000</td>\n      <td>0.0</td>\n      <td>...</td>\n      <td>0.0</td>\n      <td>0.000000</td>\n      <td>0.000000</td>\n      <td>0.000000</td>\n      <td>0.0</td>\n      <td>0.0</td>\n      <td>0.000000</td>\n      <td>0.000000</td>\n      <td>0.0</td>\n      <td>0.0</td>\n    </tr>\n    <tr>\n      <th>'Round Midnight (1986)</th>\n      <td>0.0</td>\n      <td>0.707107</td>\n      <td>1.000000</td>\n      <td>0.000000</td>\n      <td>0.000000</td>\n      <td>0.0</td>\n      <td>0.176777</td>\n      <td>0.0</td>\n      <td>0.000000</td>\n      <td>0.0</td>\n      <td>...</td>\n      <td>0.0</td>\n      <td>0.000000</td>\n      <td>0.000000</td>\n      <td>0.000000</td>\n      <td>0.0</td>\n      <td>0.0</td>\n      <td>0.000000</td>\n      <td>0.000000</td>\n      <td>0.0</td>\n      <td>0.0</td>\n    </tr>\n    <tr>\n      <th>'Salem's Lot (2004)</th>\n      <td>0.0</td>\n      <td>0.000000</td>\n      <td>0.000000</td>\n      <td>1.000000</td>\n      <td>0.857493</td>\n      <td>0.0</td>\n      <td>0.000000</td>\n      <td>0.0</td>\n      <td>0.000000</td>\n      <td>0.0</td>\n      <td>...</td>\n      <td>0.0</td>\n      <td>0.000000</td>\n      <td>0.000000</td>\n      <td>0.000000</td>\n      <td>0.0</td>\n      <td>0.0</td>\n      <td>0.000000</td>\n      <td>0.000000</td>\n      <td>0.0</td>\n      <td>0.0</td>\n    </tr>\n    <tr>\n      <th>'Til There Was You (1997)</th>\n      <td>0.0</td>\n      <td>0.000000</td>\n      <td>0.000000</td>\n      <td>0.857493</td>\n      <td>1.000000</td>\n      <td>0.0</td>\n      <td>0.000000</td>\n      <td>0.0</td>\n      <td>0.000000</td>\n      <td>0.0</td>\n      <td>...</td>\n      <td>0.0</td>\n      <td>0.000000</td>\n      <td>0.000000</td>\n      <td>0.000000</td>\n      <td>0.0</td>\n      <td>0.0</td>\n      <td>0.000000</td>\n      <td>0.000000</td>\n      <td>0.0</td>\n      <td>0.0</td>\n    </tr>\n  </tbody>\n</table>\n<p>5 rows × 9719 columns</p>\n</div>"
     },
     "execution_count": 11,
     "metadata": {},
     "output_type": "execute_result"
    }
   ],
   "source": [
    "from sklearn.metrics.pairwise import cosine_similarity\n",
    "\n",
    "item_sim = cosine_similarity(ratings_matrix_T, ratings_matrix_T)\n",
    "\n",
    "item_sim_df = pd.DataFrame(item_sim, index = ratings_matrix.columns, columns=ratings_matrix.columns)\n",
    "\n",
    "print(item_sim_df.shape)\n",
    "item_sim_df.head()"
   ],
   "metadata": {
    "collapsed": false,
    "pycharm": {
     "name": "#%%\n"
    }
   }
  },
  {
   "cell_type": "code",
   "execution_count": 12,
   "outputs": [
    {
     "data": {
      "text/plain": "title\nGodfather, The (1972)                        1.000000\nGodfather: Part II, The (1974)               0.821773\nGoodfellas (1990)                            0.664841\nOne Flew Over the Cuckoo's Nest (1975)       0.620536\nStar Wars: Episode IV - A New Hope (1977)    0.595317\nFargo (1996)                                 0.588614\nName: Godfather, The (1972), dtype: float64"
     },
     "execution_count": 12,
     "metadata": {},
     "output_type": "execute_result"
    }
   ],
   "source": [
    "item_sim_df['Godfather, The (1972)'].sort_values(ascending=False)[:6]"
   ],
   "metadata": {
    "collapsed": false,
    "pycharm": {
     "name": "#%%\n"
    }
   }
  },
  {
   "cell_type": "code",
   "execution_count": 13,
   "outputs": [
    {
     "data": {
      "text/plain": "title\nDark Knight, The (2008)          0.727263\nInglourious Basterds (2009)      0.646103\nShutter Island (2010)            0.617736\nDark Knight Rises, The (2012)    0.617504\nFight Club (1999)                0.615417\nName: Inception (2010), dtype: float64"
     },
     "execution_count": 13,
     "metadata": {},
     "output_type": "execute_result"
    }
   ],
   "source": [
    "item_sim_df['Inception (2010)'].sort_values(ascending=False)[1:6]"
   ],
   "metadata": {
    "collapsed": false,
    "pycharm": {
     "name": "#%%\n"
    }
   }
  },
  {
   "cell_type": "code",
   "execution_count": 14,
   "outputs": [],
   "source": [
    "def predict_rating(ratings_arr, item_sim_arr):\n",
    "    ratings_pred = ratings_arr.dot(item_sim_arr) / np.array([np.abs(item_sim_arr).sum(axis=1)])\n",
    "    return ratings_pred"
   ],
   "metadata": {
    "collapsed": false,
    "pycharm": {
     "name": "#%%\n"
    }
   }
  },
  {
   "cell_type": "code",
   "execution_count": 16,
   "outputs": [
    {
     "data": {
      "text/plain": "title   '71 (2014)  'Hellboy': The Seeds of Creation (2004)  \\\nuserId                                                        \n1         0.070345                                 0.577855   \n2         0.018260                                 0.042744   \n3         0.011884                                 0.030279   \n\ntitle   'Round Midnight (1986)  'Salem's Lot (2004)  \\\nuserId                                                \n1                     0.321696             0.227055   \n2                     0.018861             0.000000   \n3                     0.064437             0.003762   \n\ntitle   'Til There Was You (1997)  'Tis the Season for Love (2015)  \\\nuserId                                                               \n1                        0.206958                         0.194615   \n2                        0.000000                         0.035995   \n3                        0.003749                         0.002722   \n\ntitle   'burbs, The (1989)  'night Mother (1986)  (500) Days of Summer (2009)  \\\nuserId                                                                          \n1                 0.249883              0.102542                     0.157084   \n2                 0.013413              0.002314                     0.032213   \n3                 0.014625              0.002085                     0.005666   \n\ntitle   *batteries not included (1987)  ...  Zulu (2013)  [REC] (2007)  \\\nuserId                                  ...                              \n1                             0.178197  ...     0.113608      0.181738   \n2                             0.014863  ...     0.015640      0.020855   \n3                             0.006272  ...     0.006923      0.011665   \n\ntitle   [REC]² (2009)  [REC]³ 3 Génesis (2012)  \\\nuserId                                           \n1            0.133962                 0.128574   \n2            0.020119                 0.015745   \n3            0.011800                 0.012225   \n\ntitle   anohana: The Flower We Saw That Day - The Movie (2013)  \\\nuserId                                                           \n1                                                0.006179        \n2                                                0.049983        \n3                                                0.000000        \n\ntitle   eXistenZ (1999)  xXx (2002)  xXx: State of the Union (2005)  \\\nuserId                                                                \n1              0.212070    0.192921                        0.136024   \n2              0.014876    0.021616                        0.024528   \n3              0.008194    0.007017                        0.009229   \n\ntitle   ¡Three Amigos! (1986)  À nous la liberté (Freedom for Us) (1931)  \nuserId                                                                    \n1                    0.292955                                   0.720347  \n2                    0.017563                                   0.000000  \n3                    0.010420                                   0.084501  \n\n[3 rows x 9719 columns]",
      "text/html": "<div>\n<style scoped>\n    .dataframe tbody tr th:only-of-type {\n        vertical-align: middle;\n    }\n\n    .dataframe tbody tr th {\n        vertical-align: top;\n    }\n\n    .dataframe thead th {\n        text-align: right;\n    }\n</style>\n<table border=\"1\" class=\"dataframe\">\n  <thead>\n    <tr style=\"text-align: right;\">\n      <th>title</th>\n      <th>'71 (2014)</th>\n      <th>'Hellboy': The Seeds of Creation (2004)</th>\n      <th>'Round Midnight (1986)</th>\n      <th>'Salem's Lot (2004)</th>\n      <th>'Til There Was You (1997)</th>\n      <th>'Tis the Season for Love (2015)</th>\n      <th>'burbs, The (1989)</th>\n      <th>'night Mother (1986)</th>\n      <th>(500) Days of Summer (2009)</th>\n      <th>*batteries not included (1987)</th>\n      <th>...</th>\n      <th>Zulu (2013)</th>\n      <th>[REC] (2007)</th>\n      <th>[REC]² (2009)</th>\n      <th>[REC]³ 3 Génesis (2012)</th>\n      <th>anohana: The Flower We Saw That Day - The Movie (2013)</th>\n      <th>eXistenZ (1999)</th>\n      <th>xXx (2002)</th>\n      <th>xXx: State of the Union (2005)</th>\n      <th>¡Three Amigos! (1986)</th>\n      <th>À nous la liberté (Freedom for Us) (1931)</th>\n    </tr>\n    <tr>\n      <th>userId</th>\n      <th></th>\n      <th></th>\n      <th></th>\n      <th></th>\n      <th></th>\n      <th></th>\n      <th></th>\n      <th></th>\n      <th></th>\n      <th></th>\n      <th></th>\n      <th></th>\n      <th></th>\n      <th></th>\n      <th></th>\n      <th></th>\n      <th></th>\n      <th></th>\n      <th></th>\n      <th></th>\n      <th></th>\n    </tr>\n  </thead>\n  <tbody>\n    <tr>\n      <th>1</th>\n      <td>0.070345</td>\n      <td>0.577855</td>\n      <td>0.321696</td>\n      <td>0.227055</td>\n      <td>0.206958</td>\n      <td>0.194615</td>\n      <td>0.249883</td>\n      <td>0.102542</td>\n      <td>0.157084</td>\n      <td>0.178197</td>\n      <td>...</td>\n      <td>0.113608</td>\n      <td>0.181738</td>\n      <td>0.133962</td>\n      <td>0.128574</td>\n      <td>0.006179</td>\n      <td>0.212070</td>\n      <td>0.192921</td>\n      <td>0.136024</td>\n      <td>0.292955</td>\n      <td>0.720347</td>\n    </tr>\n    <tr>\n      <th>2</th>\n      <td>0.018260</td>\n      <td>0.042744</td>\n      <td>0.018861</td>\n      <td>0.000000</td>\n      <td>0.000000</td>\n      <td>0.035995</td>\n      <td>0.013413</td>\n      <td>0.002314</td>\n      <td>0.032213</td>\n      <td>0.014863</td>\n      <td>...</td>\n      <td>0.015640</td>\n      <td>0.020855</td>\n      <td>0.020119</td>\n      <td>0.015745</td>\n      <td>0.049983</td>\n      <td>0.014876</td>\n      <td>0.021616</td>\n      <td>0.024528</td>\n      <td>0.017563</td>\n      <td>0.000000</td>\n    </tr>\n    <tr>\n      <th>3</th>\n      <td>0.011884</td>\n      <td>0.030279</td>\n      <td>0.064437</td>\n      <td>0.003762</td>\n      <td>0.003749</td>\n      <td>0.002722</td>\n      <td>0.014625</td>\n      <td>0.002085</td>\n      <td>0.005666</td>\n      <td>0.006272</td>\n      <td>...</td>\n      <td>0.006923</td>\n      <td>0.011665</td>\n      <td>0.011800</td>\n      <td>0.012225</td>\n      <td>0.000000</td>\n      <td>0.008194</td>\n      <td>0.007017</td>\n      <td>0.009229</td>\n      <td>0.010420</td>\n      <td>0.084501</td>\n    </tr>\n  </tbody>\n</table>\n<p>3 rows × 9719 columns</p>\n</div>"
     },
     "execution_count": 16,
     "metadata": {},
     "output_type": "execute_result"
    }
   ],
   "source": [
    "ratings_pred = predict_rating(ratings_matrix.values, item_sim_df.values)\n",
    "ratings_pred_matrix = pd.DataFrame(data=ratings_pred, index=ratings_matrix.index, columns=ratings_matrix.columns)\n",
    "ratings_pred_matrix.head(3)\n"
   ],
   "metadata": {
    "collapsed": false,
    "pycharm": {
     "name": "#%%\n"
    }
   }
  },
  {
   "cell_type": "code",
   "execution_count": 17,
   "outputs": [
    {
     "name": "stdout",
     "output_type": "stream",
     "text": [
      "item 기반 모든 최근접 이웃 MSE : 9.895354759094706\n"
     ]
    }
   ],
   "source": [
    "from sklearn.metrics import mean_squared_error\n",
    "\n",
    "def get_mse(pred, actual):\n",
    "    pred = pred[actual.nonzero()].flatten()\n",
    "    actual = actual[actual.nonzero()].flatten()\n",
    "    return mean_squared_error(actual, pred)\n",
    "\n",
    "print('item 기반 모든 최근접 이웃 MSE :', get_mse(ratings_pred, ratings_matrix.values))"
   ],
   "metadata": {
    "collapsed": false,
    "pycharm": {
     "name": "#%%\n"
    }
   }
  },
  {
   "cell_type": "code",
   "execution_count": 18,
   "outputs": [],
   "source": [
    "def predict_rating_topsim(ratings_arr, item_sim_arr, n=20):\n",
    "    pred = np.zeros(ratings_arr.shape)\n",
    "\n",
    "    for col in range(ratings_arr.shape[1]):\n",
    "        top_n_items = [np.argsort(item_sim_arr[:, col])[:-n-1:-1]]\n",
    "        for row in range(ratings_arr.shape[0]):\n",
    "            pred[row, col] = item_sim_arr[col, :][top_n_items].dot(ratings_arr[row, :][top_n_items].T)\n",
    "            pred[row, col] /= np.sum(np.abs(item_sim_arr[col, :][top_n_items]))\n",
    "\n",
    "    return pred"
   ],
   "metadata": {
    "collapsed": false,
    "pycharm": {
     "name": "#%%\n"
    }
   }
  },
  {
   "cell_type": "code",
   "execution_count": 19,
   "outputs": [
    {
     "name": "stdout",
     "output_type": "stream",
     "text": [
      "아이템 기반 최근접 TOP-20 이웃 MSE : 3.694999233129397\n"
     ]
    }
   ],
   "source": [
    "ratings_pred = predict_rating_topsim(ratings_matrix.values, item_sim_df.values, n=20)\n",
    "print('아이템 기반 최근접 TOP-20 이웃 MSE :', get_mse(ratings_pred, ratings_matrix.values))"
   ],
   "metadata": {
    "collapsed": false,
    "pycharm": {
     "name": "#%%\n"
    }
   }
  },
  {
   "cell_type": "code",
   "execution_count": 20,
   "outputs": [],
   "source": [
    "ratings_pred_matrix = pd.DataFrame(data=ratings_pred, index=ratings_matrix.index, columns = ratings_matrix.columns)"
   ],
   "metadata": {
    "collapsed": false,
    "pycharm": {
     "name": "#%%\n"
    }
   }
  },
  {
   "cell_type": "code",
   "execution_count": 21,
   "outputs": [
    {
     "data": {
      "text/plain": "title\nAdaptation (2002)                                                                 5.0\nCitizen Kane (1941)                                                               5.0\nRaiders of the Lost Ark (Indiana Jones and the Raiders of the Lost Ark) (1981)    5.0\nProducers, The (1968)                                                             5.0\nLord of the Rings: The Two Towers, The (2002)                                     5.0\nLord of the Rings: The Fellowship of the Ring, The (2001)                         5.0\nBack to the Future (1985)                                                         5.0\nAustin Powers in Goldmember (2002)                                                5.0\nMinority Report (2002)                                                            4.0\nWitness (1985)                                                                    4.0\nName: 9, dtype: float64"
     },
     "execution_count": 21,
     "metadata": {},
     "output_type": "execute_result"
    }
   ],
   "source": [
    "user_rating_id = ratings_matrix.loc[9, :]\n",
    "user_rating_id[user_rating_id > 0].sort_values(ascending=False)[:10]"
   ],
   "metadata": {
    "collapsed": false,
    "pycharm": {
     "name": "#%%\n"
    }
   }
  },
  {
   "cell_type": "code",
   "execution_count": 22,
   "outputs": [],
   "source": [
    "def get_unseen_movies(ratings_matrix, userId):\n",
    "    user_rating = ratings_matrix.loc[userId, :]\n",
    "    already_seen = user_rating[ user_rating > 0].index.tolist()\n",
    "\n",
    "    movies_list = ratings_matrix.columns.tolist()\n",
    "\n",
    "    unseen_list = [ movie for movie in movies_list if movie not in already_seen]\n",
    "\n",
    "    return unseen_list"
   ],
   "metadata": {
    "collapsed": false,
    "pycharm": {
     "name": "#%%\n"
    }
   }
  },
  {
   "cell_type": "code",
   "execution_count": 23,
   "outputs": [
    {
     "data": {
      "text/plain": "                                                    pred_score\ntitle                                                         \nShrek (2001)                                          0.866202\nSpider-Man (2002)                                     0.857854\nLast Samurai, The (2003)                              0.817473\nIndiana Jones and the Temple of Doom (1984)           0.816626\nMatrix Reloaded, The (2003)                           0.800990\nHarry Potter and the Sorcerer's Stone (a.k.a. H...    0.765159\nGladiator (2000)                                      0.740956\nMatrix, The (1999)                                    0.732693\nPirates of the Caribbean: The Curse of the Blac...    0.689591\nLord of the Rings: The Return of the King, The ...    0.676711",
      "text/html": "<div>\n<style scoped>\n    .dataframe tbody tr th:only-of-type {\n        vertical-align: middle;\n    }\n\n    .dataframe tbody tr th {\n        vertical-align: top;\n    }\n\n    .dataframe thead th {\n        text-align: right;\n    }\n</style>\n<table border=\"1\" class=\"dataframe\">\n  <thead>\n    <tr style=\"text-align: right;\">\n      <th></th>\n      <th>pred_score</th>\n    </tr>\n    <tr>\n      <th>title</th>\n      <th></th>\n    </tr>\n  </thead>\n  <tbody>\n    <tr>\n      <th>Shrek (2001)</th>\n      <td>0.866202</td>\n    </tr>\n    <tr>\n      <th>Spider-Man (2002)</th>\n      <td>0.857854</td>\n    </tr>\n    <tr>\n      <th>Last Samurai, The (2003)</th>\n      <td>0.817473</td>\n    </tr>\n    <tr>\n      <th>Indiana Jones and the Temple of Doom (1984)</th>\n      <td>0.816626</td>\n    </tr>\n    <tr>\n      <th>Matrix Reloaded, The (2003)</th>\n      <td>0.800990</td>\n    </tr>\n    <tr>\n      <th>Harry Potter and the Sorcerer's Stone (a.k.a. Harry Potter and the Philosopher's Stone) (2001)</th>\n      <td>0.765159</td>\n    </tr>\n    <tr>\n      <th>Gladiator (2000)</th>\n      <td>0.740956</td>\n    </tr>\n    <tr>\n      <th>Matrix, The (1999)</th>\n      <td>0.732693</td>\n    </tr>\n    <tr>\n      <th>Pirates of the Caribbean: The Curse of the Black Pearl (2003)</th>\n      <td>0.689591</td>\n    </tr>\n    <tr>\n      <th>Lord of the Rings: The Return of the King, The (2003)</th>\n      <td>0.676711</td>\n    </tr>\n  </tbody>\n</table>\n</div>"
     },
     "execution_count": 23,
     "metadata": {},
     "output_type": "execute_result"
    }
   ],
   "source": [
    "def recomm_movies_by_userid(pred_df, userId, unseen_list, top_n=10):\n",
    "    recomm_movies = pred_df.loc[userId, unseen_list].sort_values(ascending=False)[:top_n]\n",
    "    return recomm_movies\n",
    "\n",
    "unseen_list = get_unseen_movies(ratings_matrix, 9)\n",
    "\n",
    "recomm_movies = recomm_movies_by_userid(ratings_pred_matrix, 9, unseen_list, 10)\n",
    "\n",
    "recomm_movies = pd.DataFrame(data=recomm_movies.values, index=recomm_movies.index, columns=['pred_score'])\n",
    "\n",
    "recomm_movies"
   ],
   "metadata": {
    "collapsed": false,
    "pycharm": {
     "name": "#%%\n"
    }
   }
  },
  {
   "cell_type": "code",
   "execution_count": null,
   "outputs": [],
   "source": [],
   "metadata": {
    "collapsed": false,
    "pycharm": {
     "name": "#%%\n"
    }
   }
  }
 ],
 "metadata": {
  "kernelspec": {
   "display_name": "Python 3",
   "language": "python",
   "name": "python3"
  },
  "language_info": {
   "codemirror_mode": {
    "name": "ipython",
    "version": 2
   },
   "file_extension": ".py",
   "mimetype": "text/x-python",
   "name": "python",
   "nbconvert_exporter": "python",
   "pygments_lexer": "ipython2",
   "version": "2.7.6"
  }
 },
 "nbformat": 4,
 "nbformat_minor": 0
}